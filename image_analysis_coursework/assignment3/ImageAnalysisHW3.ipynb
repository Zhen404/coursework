{
 "cells": [
  {
   "cell_type": "code",
   "execution_count": 1,
   "metadata": {},
   "outputs": [
    {
     "name": "stderr",
     "output_type": "stream",
     "text": [
      "/anaconda3/lib/python3.6/site-packages/sklearn/cross_validation.py:41: DeprecationWarning: This module was deprecated in version 0.18 in favor of the model_selection module into which all the refactored classes and functions are moved. Also note that the interface of the new CV iterators are different from that of this module. This module will be removed in 0.20.\n",
      "  \"This module will be removed in 0.20.\", DeprecationWarning)\n"
     ]
    }
   ],
   "source": [
    "import scipy.io as spio\n",
    "import matplotlib.pyplot as plt\n",
    "import pandas as pd\n",
    "from sklearn.metrics import confusion_matrix\n",
    "from sklearn.preprocessing import StandardScaler\n",
    "from sklearn.decomposition import PCA\n",
    "from sklearn.svm import SVC\n",
    "from sklearn.cross_validation import train_test_split\n",
    "import numpy as np"
   ]
  },
  {
   "cell_type": "markdown",
   "metadata": {},
   "source": [
    "# sub-01/ses-test Data (Threshold=500)"
   ]
  },
  {
   "cell_type": "code",
   "execution_count": 2,
   "metadata": {},
   "outputs": [],
   "source": [
    "fmri_mask=spio.loadmat('fMRImask500.mat')\n",
    "label=spio.loadmat('label.mat')\n",
    "fmri_ROI=fmri_mask['fMRIdata_1D_ROI']\n",
    "label=label['label']"
   ]
  },
  {
   "cell_type": "code",
   "execution_count": 3,
   "metadata": {},
   "outputs": [
    {
     "data": {
      "text/html": [
       "<div>\n",
       "<style scoped>\n",
       "    .dataframe tbody tr th:only-of-type {\n",
       "        vertical-align: middle;\n",
       "    }\n",
       "\n",
       "    .dataframe tbody tr th {\n",
       "        vertical-align: top;\n",
       "    }\n",
       "\n",
       "    .dataframe thead th {\n",
       "        text-align: right;\n",
       "    }\n",
       "</style>\n",
       "<table border=\"1\" class=\"dataframe\">\n",
       "  <thead>\n",
       "    <tr style=\"text-align: right;\">\n",
       "      <th></th>\n",
       "      <th>0</th>\n",
       "      <th>1</th>\n",
       "      <th>2</th>\n",
       "      <th>3</th>\n",
       "      <th>4</th>\n",
       "      <th>5</th>\n",
       "      <th>6</th>\n",
       "      <th>7</th>\n",
       "      <th>8</th>\n",
       "      <th>9</th>\n",
       "      <th>...</th>\n",
       "      <th>15173</th>\n",
       "      <th>15174</th>\n",
       "      <th>15175</th>\n",
       "      <th>15176</th>\n",
       "      <th>15177</th>\n",
       "      <th>15178</th>\n",
       "      <th>15179</th>\n",
       "      <th>15180</th>\n",
       "      <th>15181</th>\n",
       "      <th>15182</th>\n",
       "    </tr>\n",
       "  </thead>\n",
       "  <tbody>\n",
       "    <tr>\n",
       "      <th>0</th>\n",
       "      <td>621</td>\n",
       "      <td>936</td>\n",
       "      <td>890</td>\n",
       "      <td>990</td>\n",
       "      <td>918</td>\n",
       "      <td>624</td>\n",
       "      <td>941</td>\n",
       "      <td>1022</td>\n",
       "      <td>1004</td>\n",
       "      <td>702</td>\n",
       "      <td>...</td>\n",
       "      <td>1900</td>\n",
       "      <td>3146</td>\n",
       "      <td>2071</td>\n",
       "      <td>2423</td>\n",
       "      <td>2015</td>\n",
       "      <td>2329</td>\n",
       "      <td>2268</td>\n",
       "      <td>1747</td>\n",
       "      <td>1765</td>\n",
       "      <td>1437</td>\n",
       "    </tr>\n",
       "    <tr>\n",
       "      <th>1</th>\n",
       "      <td>526</td>\n",
       "      <td>809</td>\n",
       "      <td>795</td>\n",
       "      <td>851</td>\n",
       "      <td>819</td>\n",
       "      <td>533</td>\n",
       "      <td>858</td>\n",
       "      <td>935</td>\n",
       "      <td>903</td>\n",
       "      <td>611</td>\n",
       "      <td>...</td>\n",
       "      <td>1077</td>\n",
       "      <td>1888</td>\n",
       "      <td>1302</td>\n",
       "      <td>1412</td>\n",
       "      <td>1154</td>\n",
       "      <td>1402</td>\n",
       "      <td>1357</td>\n",
       "      <td>1065</td>\n",
       "      <td>1117</td>\n",
       "      <td>930</td>\n",
       "    </tr>\n",
       "    <tr>\n",
       "      <th>2</th>\n",
       "      <td>539</td>\n",
       "      <td>826</td>\n",
       "      <td>798</td>\n",
       "      <td>869</td>\n",
       "      <td>829</td>\n",
       "      <td>548</td>\n",
       "      <td>856</td>\n",
       "      <td>946</td>\n",
       "      <td>921</td>\n",
       "      <td>609</td>\n",
       "      <td>...</td>\n",
       "      <td>971</td>\n",
       "      <td>1710</td>\n",
       "      <td>1184</td>\n",
       "      <td>1287</td>\n",
       "      <td>1067</td>\n",
       "      <td>1287</td>\n",
       "      <td>1233</td>\n",
       "      <td>983</td>\n",
       "      <td>1014</td>\n",
       "      <td>853</td>\n",
       "    </tr>\n",
       "    <tr>\n",
       "      <th>3</th>\n",
       "      <td>537</td>\n",
       "      <td>828</td>\n",
       "      <td>811</td>\n",
       "      <td>865</td>\n",
       "      <td>832</td>\n",
       "      <td>563</td>\n",
       "      <td>855</td>\n",
       "      <td>939</td>\n",
       "      <td>924</td>\n",
       "      <td>624</td>\n",
       "      <td>...</td>\n",
       "      <td>951</td>\n",
       "      <td>1639</td>\n",
       "      <td>1188</td>\n",
       "      <td>1293</td>\n",
       "      <td>1055</td>\n",
       "      <td>1313</td>\n",
       "      <td>1251</td>\n",
       "      <td>974</td>\n",
       "      <td>1022</td>\n",
       "      <td>843</td>\n",
       "    </tr>\n",
       "    <tr>\n",
       "      <th>4</th>\n",
       "      <td>525</td>\n",
       "      <td>806</td>\n",
       "      <td>780</td>\n",
       "      <td>866</td>\n",
       "      <td>822</td>\n",
       "      <td>532</td>\n",
       "      <td>833</td>\n",
       "      <td>910</td>\n",
       "      <td>904</td>\n",
       "      <td>599</td>\n",
       "      <td>...</td>\n",
       "      <td>950</td>\n",
       "      <td>1636</td>\n",
       "      <td>1188</td>\n",
       "      <td>1278</td>\n",
       "      <td>1043</td>\n",
       "      <td>1330</td>\n",
       "      <td>1252</td>\n",
       "      <td>976</td>\n",
       "      <td>1042</td>\n",
       "      <td>859</td>\n",
       "    </tr>\n",
       "  </tbody>\n",
       "</table>\n",
       "<p>5 rows × 15183 columns</p>\n",
       "</div>"
      ],
      "text/plain": [
       "   0      1      2      3      4      5      6      7      8      9      \\\n",
       "0    621    936    890    990    918    624    941   1022   1004    702   \n",
       "1    526    809    795    851    819    533    858    935    903    611   \n",
       "2    539    826    798    869    829    548    856    946    921    609   \n",
       "3    537    828    811    865    832    563    855    939    924    624   \n",
       "4    525    806    780    866    822    532    833    910    904    599   \n",
       "\n",
       "   ...    15173  15174  15175  15176  15177  15178  15179  15180  15181  15182  \n",
       "0  ...     1900   3146   2071   2423   2015   2329   2268   1747   1765   1437  \n",
       "1  ...     1077   1888   1302   1412   1154   1402   1357   1065   1117    930  \n",
       "2  ...      971   1710   1184   1287   1067   1287   1233    983   1014    853  \n",
       "3  ...      951   1639   1188   1293   1055   1313   1251    974   1022    843  \n",
       "4  ...      950   1636   1188   1278   1043   1330   1252    976   1042    859  \n",
       "\n",
       "[5 rows x 15183 columns]"
      ]
     },
     "execution_count": 3,
     "metadata": {},
     "output_type": "execute_result"
    }
   ],
   "source": [
    "fmri_ROI_df=pd.DataFrame(fmri_ROI)\n",
    "fmri_ROI_df.head()"
   ]
  },
  {
   "cell_type": "code",
   "execution_count": 4,
   "metadata": {},
   "outputs": [
    {
     "data": {
      "text/html": [
       "<div>\n",
       "<style scoped>\n",
       "    .dataframe tbody tr th:only-of-type {\n",
       "        vertical-align: middle;\n",
       "    }\n",
       "\n",
       "    .dataframe tbody tr th {\n",
       "        vertical-align: top;\n",
       "    }\n",
       "\n",
       "    .dataframe thead th {\n",
       "        text-align: right;\n",
       "    }\n",
       "</style>\n",
       "<table border=\"1\" class=\"dataframe\">\n",
       "  <thead>\n",
       "    <tr style=\"text-align: right;\">\n",
       "      <th></th>\n",
       "      <th>0</th>\n",
       "      <th>1</th>\n",
       "      <th>2</th>\n",
       "      <th>3</th>\n",
       "      <th>4</th>\n",
       "      <th>5</th>\n",
       "      <th>6</th>\n",
       "      <th>7</th>\n",
       "      <th>8</th>\n",
       "      <th>9</th>\n",
       "      <th>...</th>\n",
       "      <th>15174</th>\n",
       "      <th>15175</th>\n",
       "      <th>15176</th>\n",
       "      <th>15177</th>\n",
       "      <th>15178</th>\n",
       "      <th>15179</th>\n",
       "      <th>15180</th>\n",
       "      <th>15181</th>\n",
       "      <th>15182</th>\n",
       "      <th>label</th>\n",
       "    </tr>\n",
       "  </thead>\n",
       "  <tbody>\n",
       "    <tr>\n",
       "      <th>0</th>\n",
       "      <td>621</td>\n",
       "      <td>936</td>\n",
       "      <td>890</td>\n",
       "      <td>990</td>\n",
       "      <td>918</td>\n",
       "      <td>624</td>\n",
       "      <td>941</td>\n",
       "      <td>1022</td>\n",
       "      <td>1004</td>\n",
       "      <td>702</td>\n",
       "      <td>...</td>\n",
       "      <td>3146</td>\n",
       "      <td>2071</td>\n",
       "      <td>2423</td>\n",
       "      <td>2015</td>\n",
       "      <td>2329</td>\n",
       "      <td>2268</td>\n",
       "      <td>1747</td>\n",
       "      <td>1765</td>\n",
       "      <td>1437</td>\n",
       "      <td>1</td>\n",
       "    </tr>\n",
       "    <tr>\n",
       "      <th>1</th>\n",
       "      <td>526</td>\n",
       "      <td>809</td>\n",
       "      <td>795</td>\n",
       "      <td>851</td>\n",
       "      <td>819</td>\n",
       "      <td>533</td>\n",
       "      <td>858</td>\n",
       "      <td>935</td>\n",
       "      <td>903</td>\n",
       "      <td>611</td>\n",
       "      <td>...</td>\n",
       "      <td>1888</td>\n",
       "      <td>1302</td>\n",
       "      <td>1412</td>\n",
       "      <td>1154</td>\n",
       "      <td>1402</td>\n",
       "      <td>1357</td>\n",
       "      <td>1065</td>\n",
       "      <td>1117</td>\n",
       "      <td>930</td>\n",
       "      <td>1</td>\n",
       "    </tr>\n",
       "    <tr>\n",
       "      <th>2</th>\n",
       "      <td>539</td>\n",
       "      <td>826</td>\n",
       "      <td>798</td>\n",
       "      <td>869</td>\n",
       "      <td>829</td>\n",
       "      <td>548</td>\n",
       "      <td>856</td>\n",
       "      <td>946</td>\n",
       "      <td>921</td>\n",
       "      <td>609</td>\n",
       "      <td>...</td>\n",
       "      <td>1710</td>\n",
       "      <td>1184</td>\n",
       "      <td>1287</td>\n",
       "      <td>1067</td>\n",
       "      <td>1287</td>\n",
       "      <td>1233</td>\n",
       "      <td>983</td>\n",
       "      <td>1014</td>\n",
       "      <td>853</td>\n",
       "      <td>1</td>\n",
       "    </tr>\n",
       "    <tr>\n",
       "      <th>3</th>\n",
       "      <td>537</td>\n",
       "      <td>828</td>\n",
       "      <td>811</td>\n",
       "      <td>865</td>\n",
       "      <td>832</td>\n",
       "      <td>563</td>\n",
       "      <td>855</td>\n",
       "      <td>939</td>\n",
       "      <td>924</td>\n",
       "      <td>624</td>\n",
       "      <td>...</td>\n",
       "      <td>1639</td>\n",
       "      <td>1188</td>\n",
       "      <td>1293</td>\n",
       "      <td>1055</td>\n",
       "      <td>1313</td>\n",
       "      <td>1251</td>\n",
       "      <td>974</td>\n",
       "      <td>1022</td>\n",
       "      <td>843</td>\n",
       "      <td>1</td>\n",
       "    </tr>\n",
       "    <tr>\n",
       "      <th>4</th>\n",
       "      <td>525</td>\n",
       "      <td>806</td>\n",
       "      <td>780</td>\n",
       "      <td>866</td>\n",
       "      <td>822</td>\n",
       "      <td>532</td>\n",
       "      <td>833</td>\n",
       "      <td>910</td>\n",
       "      <td>904</td>\n",
       "      <td>599</td>\n",
       "      <td>...</td>\n",
       "      <td>1636</td>\n",
       "      <td>1188</td>\n",
       "      <td>1278</td>\n",
       "      <td>1043</td>\n",
       "      <td>1330</td>\n",
       "      <td>1252</td>\n",
       "      <td>976</td>\n",
       "      <td>1042</td>\n",
       "      <td>859</td>\n",
       "      <td>2</td>\n",
       "    </tr>\n",
       "  </tbody>\n",
       "</table>\n",
       "<p>5 rows × 15184 columns</p>\n",
       "</div>"
      ],
      "text/plain": [
       "     0    1    2    3    4    5    6     7     8    9  ...    15174  15175  \\\n",
       "0  621  936  890  990  918  624  941  1022  1004  702  ...     3146   2071   \n",
       "1  526  809  795  851  819  533  858   935   903  611  ...     1888   1302   \n",
       "2  539  826  798  869  829  548  856   946   921  609  ...     1710   1184   \n",
       "3  537  828  811  865  832  563  855   939   924  624  ...     1639   1188   \n",
       "4  525  806  780  866  822  532  833   910   904  599  ...     1636   1188   \n",
       "\n",
       "   15176  15177  15178  15179  15180  15181  15182  label  \n",
       "0   2423   2015   2329   2268   1747   1765   1437      1  \n",
       "1   1412   1154   1402   1357   1065   1117    930      1  \n",
       "2   1287   1067   1287   1233    983   1014    853      1  \n",
       "3   1293   1055   1313   1251    974   1022    843      1  \n",
       "4   1278   1043   1330   1252    976   1042    859      2  \n",
       "\n",
       "[5 rows x 15184 columns]"
      ]
     },
     "execution_count": 4,
     "metadata": {},
     "output_type": "execute_result"
    }
   ],
   "source": [
    "fmri_ROI_df['label']=label\n",
    "fmri_ROI_df.head()"
   ]
  },
  {
   "cell_type": "markdown",
   "metadata": {},
   "source": [
    "## SVM only"
   ]
  },
  {
   "cell_type": "code",
   "execution_count": 8,
   "metadata": {},
   "outputs": [
    {
     "name": "stdout",
     "output_type": "stream",
     "text": [
      "The hightest score: 0.8478260869565217\n",
      "The corresponding C: 0.01\n"
     ]
    },
    {
     "data": {
      "image/png": "[encoded data removed]",
      "text/plain": [
       "<matplotlib.figure.Figure at 0x1a19bd9828>"
      ]
     },
     "metadata": {},
     "output_type": "display_data"
    }
   ],
   "source": [
    "train,test=train_test_split(fmri_ROI_df,test_size=0.5)\n",
    "X_train=train[train.columns[0:(fmri_ROI_df.shape[1]-1)]]\n",
    "y_train=train['label']\n",
    "X_test=test[test.columns[0:(fmri_ROI_df.shape[1]-1)]]\n",
    "y_test=test['label']\n",
    "\n",
    "scores=[]\n",
    "index=[]\n",
    "\n",
    "for c in [0.01,0.1,1,10,100]:\n",
    "    clf=SVC(kernel='linear',C=c,gamma=100)\n",
    "    clf.fit(X_train,y_train)\n",
    "    index.append(c)\n",
    "    scores.append(clf.score(X_test,y_test))\n",
    "    \n",
    "fig = plt.figure()\n",
    "plt.plot(index,scores)\n",
    "fig.suptitle('SCORE VS C')\n",
    "plt.xlabel('C')\n",
    "plt.ylabel('SCORE')\n",
    "\n",
    "print('The hightest score:',max(scores))\n",
    "print('The corresponding C:',index[np.argmax(scores)])"
   ]
  },
  {
   "cell_type": "code",
   "execution_count": 9,
   "metadata": {},
   "outputs": [
    {
     "name": "stdout",
     "output_type": "stream",
     "text": [
      "The hightest score: 0.8478260869565217\n",
      "The corresponding C: 0.01\n"
     ]
    },
    {
     "data": {
      "image/png": "[encoded data removed]",
      "text/plain": [
       "<matplotlib.figure.Figure at 0x1a0ea18908>"
      ]
     },
     "metadata": {},
     "output_type": "display_data"
    }
   ],
   "source": [
    "scores=[]\n",
    "index=[]\n",
    "\n",
    "for c in [0.01,0.1,1,10,100]:\n",
    "    clf=SVC(kernel='linear',C=c,gamma=0.01)\n",
    "    clf.fit(X_train,y_train)\n",
    "    index.append(c)\n",
    "    scores.append(clf.score(X_test,y_test))\n",
    "    \n",
    "fig = plt.figure()\n",
    "plt.plot(index,scores)\n",
    "fig.suptitle('SCORE VS C')\n",
    "plt.xlabel('C')\n",
    "plt.ylabel('SCORE')\n",
    "\n",
    "print('The hightest score:',max(scores))\n",
    "print('The corresponding C:',index[np.argmax(scores)])"
   ]
  },
  {
   "cell_type": "code",
   "execution_count": 10,
   "metadata": {},
   "outputs": [],
   "source": [
    "scores=[]\n",
    "index=[]\n",
    "# save all scores of random state within range [10,150) \n",
    "for i in range(1,150):\n",
    "    train,test=train_test_split(fmri_ROI_df,test_size=0.5,random_state=i)\n",
    "    X_train=train[train.columns[0:(fmri_ROI_df.shape[1]-1)]]\n",
    "    y_train=train['label']\n",
    "    X_test=test[test.columns[0:(fmri_ROI_df.shape[1]-1)]]\n",
    "    y_test=test['label']\n",
    "    clf=SVC(kernel='linear',C=0.01,gamma=100)\n",
    "    clf.fit(X_train,y_train)\n",
    "    index.append(i)\n",
    "    scores.append(clf.score(X_test,y_test))\n",
    "\n"
   ]
  },
  {
   "cell_type": "code",
   "execution_count": 11,
   "metadata": {},
   "outputs": [
    {
     "data": {
      "text/plain": [
       "Text(0,0.5,'SCORE')"
      ]
     },
     "execution_count": 11,
     "metadata": {},
     "output_type": "execute_result"
    },
    {
     "data": {
      "image/png": "[encoded data removed]",
      "text/plain": [
       "<matplotlib.figure.Figure at 0x1a1a7e4828>"
      ]
     },
     "metadata": {},
     "output_type": "display_data"
    }
   ],
   "source": [
    "fig = plt.figure()\n",
    "plt.plot(index,scores)\n",
    "fig.suptitle('SCORE VS RANDOM_STATE')\n",
    "plt.xlabel('RANDOM_STATE')\n",
    "plt.ylabel('SCORE')"
   ]
  },
  {
   "cell_type": "code",
   "execution_count": 12,
   "metadata": {},
   "outputs": [
    {
     "name": "stdout",
     "output_type": "stream",
     "text": [
      "The hightest score: 0.9239130434782609\n",
      "The corresponding random state: 115\n"
     ]
    }
   ],
   "source": [
    "print('The hightest score:',max(scores))\n",
    "print('The corresponding random state:',index[np.argmax(scores)])"
   ]
  },
  {
   "cell_type": "code",
   "execution_count": 13,
   "metadata": {},
   "outputs": [],
   "source": [
    "train,test=train_test_split(fmri_ROI_df,test_size=0.5,random_state=115)\n",
    "X_train=train[train.columns[0:(fmri_ROI_df.shape[1]-1)]]\n",
    "y_train=train['label']\n",
    "X_test=test[test.columns[0:(fmri_ROI_df.shape[1]-1)]]\n",
    "y_test=test['label']\n"
   ]
  },
  {
   "cell_type": "code",
   "execution_count": 14,
   "metadata": {},
   "outputs": [
    {
     "name": "stdout",
     "output_type": "stream",
     "text": [
      "Accuracy of the best: 0.9239130434782609\n"
     ]
    }
   ],
   "source": [
    "clf=SVC(kernel='linear',C=0.01,gamma=0.01)\n",
    "clf.fit(X_train,y_train)\n",
    "\n",
    "svm_pred=clf.predict(X_test)\n",
    "print('Accuracy of the best:',clf.score(X_test,y_test))"
   ]
  },
  {
   "cell_type": "code",
   "execution_count": 15,
   "metadata": {},
   "outputs": [
    {
     "name": "stdout",
     "output_type": "stream",
     "text": [
      "[[44  2  0  1]\n",
      " [ 2 13  0  0]\n",
      " [ 2  0 10  0]\n",
      " [ 0  0  0 18]]\n"
     ]
    }
   ],
   "source": [
    "print(confusion_matrix(y_test,svm_pred))"
   ]
  },
  {
   "cell_type": "code",
   "execution_count": 16,
   "metadata": {},
   "outputs": [
    {
     "name": "stdout",
     "output_type": "stream",
     "text": [
      "Predict Label: [1 4 4 4 3 1 4 1 2 1 4 2 1 1 1 4 1 3 2 2 4 1 3 2 2 1 1 2 3 1 1 1 1 4 2 1 4\n",
      " 1 1 1 1 1 1 1 1 1 1 1 4 3 1 1 1 3 3 1 1 1 4 3 1 1 1 1 1 4 1 2 2 2 4 3 1 1\n",
      " 2 1 4 3 4 2 1 4 4 4 2 1 1 1 4 1 1 2]\n",
      "Real Label: [2 4 4 4 3 3 4 1 2 1 4 2 1 1 1 4 1 3 2 1 4 1 3 2 2 1 1 2 3 1 1 1 1 4 2 1 4\n",
      " 1 1 1 1 1 1 1 1 1 1 2 4 3 1 1 1 3 3 1 1 1 4 3 1 1 1 1 1 4 1 1 2 2 4 3 1 1\n",
      " 2 1 1 3 4 2 1 4 4 4 2 1 1 1 4 1 3 2]\n"
     ]
    }
   ],
   "source": [
    "print('Predict Label:',svm_pred)\n",
    "print('Real Label:',np.transpose(y_test.tolist()))"
   ]
  },
  {
   "cell_type": "markdown",
   "metadata": {},
   "source": [
    "## PCA+SVM"
   ]
  },
  {
   "cell_type": "code",
   "execution_count": 17,
   "metadata": {},
   "outputs": [],
   "source": [
    "# Standardizing the features\n",
    "scale=StandardScaler()\n",
    "scale.fit(X_train)\n",
    "X_train=scale.transform(X_train)\n",
    "X_test=scale.transform(X_test)"
   ]
  },
  {
   "cell_type": "code",
   "execution_count": 18,
   "metadata": {},
   "outputs": [],
   "source": [
    "scores=[]\n",
    "index=[]\n",
    "# save all scores of the number of dimensionality reduction within range [10,150) \n",
    "for i in range(10,150):\n",
    "    pca = PCA(n_components=i)\n",
    "    pca.fit(X_train)\n",
    "    X_train_pca= pca.transform(X_train)\n",
    "    X_test_pca=pca.transform(X_test)\n",
    "\n",
    "    clf2=SVC(kernel='linear',C=0.01,gamma=0.01)\n",
    "    clf2.fit(X_train_pca,y_train)\n",
    "    \n",
    "    \n",
    "    index.append(i)\n",
    "    scores.append(clf2.score(X_test_pca,y_test))\n",
    "    \n"
   ]
  },
  {
   "cell_type": "code",
   "execution_count": 19,
   "metadata": {},
   "outputs": [
    {
     "data": {
      "text/plain": [
       "Text(0,0.5,'SCORE')"
      ]
     },
     "execution_count": 19,
     "metadata": {},
     "output_type": "execute_result"
    },
    {
     "data": {
      "image/png": "[encoded data removed]",
      "text/plain": [
       "<matplotlib.figure.Figure at 0x1077fa518>"
      ]
     },
     "metadata": {},
     "output_type": "display_data"
    }
   ],
   "source": [
    "fig=plt.figure()\n",
    "plt.plot(index,scores)\n",
    "fig.suptitle('SCORE VS NUMBER OF PRINCIPLE COMPONENT')\n",
    "plt.xlabel('NUMBER OF PRINCIPLE COMPONENT')\n",
    "plt.ylabel('SCORE')"
   ]
  },
  {
   "cell_type": "code",
   "execution_count": 20,
   "metadata": {},
   "outputs": [
    {
     "name": "stdout",
     "output_type": "stream",
     "text": [
      "The hightest score: 0.9347826086956522\n",
      "The corresponding number of principle component: 78\n"
     ]
    }
   ],
   "source": [
    "print('The hightest score:',max(scores))\n",
    "print('The corresponding number of principle component:',index[np.argmax(scores)])"
   ]
  },
  {
   "cell_type": "code",
   "execution_count": 21,
   "metadata": {},
   "outputs": [
    {
     "name": "stdout",
     "output_type": "stream",
     "text": [
      "Accuracy of the best: 0.9347826086956522\n"
     ]
    }
   ],
   "source": [
    "pca = PCA(n_components=78)\n",
    "pca.fit(X_train)\n",
    "X_train_pca= pca.transform(X_train)\n",
    "X_test_pca=pca.transform(X_test)\n",
    "\n",
    "clf=SVC(kernel='linear',C=0.01,gamma=0.01)\n",
    "clf.fit(X_train_pca,y_train)\n",
    "\n",
    "svm_pred2=clf.predict(X_test_pca)\n",
    "print('Accuracy of the best:',clf.score(X_test_pca,y_test))\n",
    "\n",
    "pca_svm_pred=clf.predict(X_test_pca)"
   ]
  },
  {
   "cell_type": "code",
   "execution_count": 22,
   "metadata": {},
   "outputs": [
    {
     "name": "stdout",
     "output_type": "stream",
     "text": [
      "[[46  1  0  0]\n",
      " [ 3 12  0  0]\n",
      " [ 2  0 10  0]\n",
      " [ 0  0  0 18]]\n"
     ]
    }
   ],
   "source": [
    "print(confusion_matrix(y_test,pca_svm_pred))"
   ]
  },
  {
   "cell_type": "code",
   "execution_count": 23,
   "metadata": {},
   "outputs": [
    {
     "name": "stdout",
     "output_type": "stream",
     "text": [
      "Predict Label: [1 4 4 4 3 3 4 1 2 1 4 2 1 1 1 4 1 3 2 2 4 1 3 2 2 1 1 2 3 1 1 1 1 4 2 1 4\n",
      " 1 1 1 1 1 1 1 1 1 1 2 4 3 1 1 1 3 1 1 1 1 4 3 1 1 1 1 1 4 1 1 2 2 4 3 1 1\n",
      " 2 1 1 3 4 1 1 4 4 4 1 1 1 1 4 1 1 2]\n",
      "Real Label: [2 4 4 4 3 3 4 1 2 1 4 2 1 1 1 4 1 3 2 1 4 1 3 2 2 1 1 2 3 1 1 1 1 4 2 1 4\n",
      " 1 1 1 1 1 1 1 1 1 1 2 4 3 1 1 1 3 3 1 1 1 4 3 1 1 1 1 1 4 1 1 2 2 4 3 1 1\n",
      " 2 1 1 3 4 2 1 4 4 4 2 1 1 1 4 1 3 2]\n"
     ]
    }
   ],
   "source": [
    "print('Predict Label:',pca_svm_pred)\n",
    "print('Real Label:',np.transpose(y_test.tolist()))"
   ]
  },
  {
   "cell_type": "markdown",
   "metadata": {},
   "source": [
    "# sub-01/ses-test Data (Threshold=800)"
   ]
  },
  {
   "cell_type": "code",
   "execution_count": 24,
   "metadata": {},
   "outputs": [],
   "source": [
    "fmri_mask=spio.loadmat('fMRImask800.mat')\n",
    "label=spio.loadmat('label.mat')\n",
    "fmri_ROI=fmri_mask['fMRIdata_1D_ROI']\n",
    "label=label['label']"
   ]
  },
  {
   "cell_type": "code",
   "execution_count": 25,
   "metadata": {},
   "outputs": [
    {
     "data": {
      "text/html": [
       "<div>\n",
       "<style scoped>\n",
       "    .dataframe tbody tr th:only-of-type {\n",
       "        vertical-align: middle;\n",
       "    }\n",
       "\n",
       "    .dataframe tbody tr th {\n",
       "        vertical-align: top;\n",
       "    }\n",
       "\n",
       "    .dataframe thead th {\n",
       "        text-align: right;\n",
       "    }\n",
       "</style>\n",
       "<table border=\"1\" class=\"dataframe\">\n",
       "  <thead>\n",
       "    <tr style=\"text-align: right;\">\n",
       "      <th></th>\n",
       "      <th>0</th>\n",
       "      <th>1</th>\n",
       "      <th>2</th>\n",
       "      <th>3</th>\n",
       "      <th>4</th>\n",
       "      <th>5</th>\n",
       "      <th>6</th>\n",
       "      <th>7</th>\n",
       "      <th>8</th>\n",
       "      <th>9</th>\n",
       "      <th>...</th>\n",
       "      <th>13637</th>\n",
       "      <th>13638</th>\n",
       "      <th>13639</th>\n",
       "      <th>13640</th>\n",
       "      <th>13641</th>\n",
       "      <th>13642</th>\n",
       "      <th>13643</th>\n",
       "      <th>13644</th>\n",
       "      <th>13645</th>\n",
       "      <th>13646</th>\n",
       "    </tr>\n",
       "  </thead>\n",
       "  <tbody>\n",
       "    <tr>\n",
       "      <th>0</th>\n",
       "      <td>990</td>\n",
       "      <td>941</td>\n",
       "      <td>1022</td>\n",
       "      <td>1004</td>\n",
       "      <td>1238</td>\n",
       "      <td>1380</td>\n",
       "      <td>1412</td>\n",
       "      <td>1199</td>\n",
       "      <td>933</td>\n",
       "      <td>1245</td>\n",
       "      <td>...</td>\n",
       "      <td>2586</td>\n",
       "      <td>1686</td>\n",
       "      <td>3152</td>\n",
       "      <td>2066</td>\n",
       "      <td>1554</td>\n",
       "      <td>2924</td>\n",
       "      <td>1900</td>\n",
       "      <td>3146</td>\n",
       "      <td>2071</td>\n",
       "      <td>2268</td>\n",
       "    </tr>\n",
       "    <tr>\n",
       "      <th>1</th>\n",
       "      <td>851</td>\n",
       "      <td>858</td>\n",
       "      <td>935</td>\n",
       "      <td>903</td>\n",
       "      <td>1120</td>\n",
       "      <td>1242</td>\n",
       "      <td>1269</td>\n",
       "      <td>1118</td>\n",
       "      <td>898</td>\n",
       "      <td>1079</td>\n",
       "      <td>...</td>\n",
       "      <td>1684</td>\n",
       "      <td>997</td>\n",
       "      <td>1897</td>\n",
       "      <td>1300</td>\n",
       "      <td>981</td>\n",
       "      <td>1726</td>\n",
       "      <td>1077</td>\n",
       "      <td>1888</td>\n",
       "      <td>1302</td>\n",
       "      <td>1357</td>\n",
       "    </tr>\n",
       "    <tr>\n",
       "      <th>2</th>\n",
       "      <td>869</td>\n",
       "      <td>856</td>\n",
       "      <td>946</td>\n",
       "      <td>921</td>\n",
       "      <td>1107</td>\n",
       "      <td>1245</td>\n",
       "      <td>1262</td>\n",
       "      <td>1106</td>\n",
       "      <td>886</td>\n",
       "      <td>1082</td>\n",
       "      <td>...</td>\n",
       "      <td>1529</td>\n",
       "      <td>923</td>\n",
       "      <td>1721</td>\n",
       "      <td>1205</td>\n",
       "      <td>914</td>\n",
       "      <td>1642</td>\n",
       "      <td>971</td>\n",
       "      <td>1710</td>\n",
       "      <td>1184</td>\n",
       "      <td>1233</td>\n",
       "    </tr>\n",
       "    <tr>\n",
       "      <th>3</th>\n",
       "      <td>865</td>\n",
       "      <td>855</td>\n",
       "      <td>939</td>\n",
       "      <td>924</td>\n",
       "      <td>1101</td>\n",
       "      <td>1243</td>\n",
       "      <td>1252</td>\n",
       "      <td>1104</td>\n",
       "      <td>893</td>\n",
       "      <td>1089</td>\n",
       "      <td>...</td>\n",
       "      <td>1454</td>\n",
       "      <td>974</td>\n",
       "      <td>1688</td>\n",
       "      <td>1245</td>\n",
       "      <td>966</td>\n",
       "      <td>1663</td>\n",
       "      <td>951</td>\n",
       "      <td>1639</td>\n",
       "      <td>1188</td>\n",
       "      <td>1251</td>\n",
       "    </tr>\n",
       "    <tr>\n",
       "      <th>4</th>\n",
       "      <td>866</td>\n",
       "      <td>833</td>\n",
       "      <td>910</td>\n",
       "      <td>904</td>\n",
       "      <td>1086</td>\n",
       "      <td>1224</td>\n",
       "      <td>1258</td>\n",
       "      <td>1094</td>\n",
       "      <td>868</td>\n",
       "      <td>1086</td>\n",
       "      <td>...</td>\n",
       "      <td>1447</td>\n",
       "      <td>976</td>\n",
       "      <td>1697</td>\n",
       "      <td>1242</td>\n",
       "      <td>984</td>\n",
       "      <td>1677</td>\n",
       "      <td>950</td>\n",
       "      <td>1636</td>\n",
       "      <td>1188</td>\n",
       "      <td>1252</td>\n",
       "    </tr>\n",
       "  </tbody>\n",
       "</table>\n",
       "<p>5 rows × 13647 columns</p>\n",
       "</div>"
      ],
      "text/plain": [
       "   0      1      2      3      4      5      6      7      8      9      \\\n",
       "0    990    941   1022   1004   1238   1380   1412   1199    933   1245   \n",
       "1    851    858    935    903   1120   1242   1269   1118    898   1079   \n",
       "2    869    856    946    921   1107   1245   1262   1106    886   1082   \n",
       "3    865    855    939    924   1101   1243   1252   1104    893   1089   \n",
       "4    866    833    910    904   1086   1224   1258   1094    868   1086   \n",
       "\n",
       "   ...    13637  13638  13639  13640  13641  13642  13643  13644  13645  13646  \n",
       "0  ...     2586   1686   3152   2066   1554   2924   1900   3146   2071   2268  \n",
       "1  ...     1684    997   1897   1300    981   1726   1077   1888   1302   1357  \n",
       "2  ...     1529    923   1721   1205    914   1642    971   1710   1184   1233  \n",
       "3  ...     1454    974   1688   1245    966   1663    951   1639   1188   1251  \n",
       "4  ...     1447    976   1697   1242    984   1677    950   1636   1188   1252  \n",
       "\n",
       "[5 rows x 13647 columns]"
      ]
     },
     "execution_count": 25,
     "metadata": {},
     "output_type": "execute_result"
    }
   ],
   "source": [
    "fmri_ROI_df=pd.DataFrame(fmri_ROI)\n",
    "fmri_ROI_df.head()"
   ]
  },
  {
   "cell_type": "code",
   "execution_count": 26,
   "metadata": {},
   "outputs": [
    {
     "name": "stdout",
     "output_type": "stream",
     "text": [
      "<class 'pandas.core.frame.DataFrame'>\n",
      "RangeIndex: 184 entries, 0 to 183\n",
      "Columns: 13647 entries, 0 to 13646\n",
      "dtypes: uint16(13647)\n",
      "memory usage: 4.8 MB\n"
     ]
    }
   ],
   "source": [
    "fmri_ROI_df.info()"
   ]
  },
  {
   "cell_type": "code",
   "execution_count": 27,
   "metadata": {},
   "outputs": [
    {
     "data": {
      "text/html": [
       "<div>\n",
       "<style scoped>\n",
       "    .dataframe tbody tr th:only-of-type {\n",
       "        vertical-align: middle;\n",
       "    }\n",
       "\n",
       "    .dataframe tbody tr th {\n",
       "        vertical-align: top;\n",
       "    }\n",
       "\n",
       "    .dataframe thead th {\n",
       "        text-align: right;\n",
       "    }\n",
       "</style>\n",
       "<table border=\"1\" class=\"dataframe\">\n",
       "  <thead>\n",
       "    <tr style=\"text-align: right;\">\n",
       "      <th></th>\n",
       "      <th>0</th>\n",
       "      <th>1</th>\n",
       "      <th>2</th>\n",
       "      <th>3</th>\n",
       "      <th>4</th>\n",
       "      <th>5</th>\n",
       "      <th>6</th>\n",
       "      <th>7</th>\n",
       "      <th>8</th>\n",
       "      <th>9</th>\n",
       "      <th>...</th>\n",
       "      <th>13638</th>\n",
       "      <th>13639</th>\n",
       "      <th>13640</th>\n",
       "      <th>13641</th>\n",
       "      <th>13642</th>\n",
       "      <th>13643</th>\n",
       "      <th>13644</th>\n",
       "      <th>13645</th>\n",
       "      <th>13646</th>\n",
       "      <th>label</th>\n",
       "    </tr>\n",
       "  </thead>\n",
       "  <tbody>\n",
       "    <tr>\n",
       "      <th>0</th>\n",
       "      <td>990</td>\n",
       "      <td>941</td>\n",
       "      <td>1022</td>\n",
       "      <td>1004</td>\n",
       "      <td>1238</td>\n",
       "      <td>1380</td>\n",
       "      <td>1412</td>\n",
       "      <td>1199</td>\n",
       "      <td>933</td>\n",
       "      <td>1245</td>\n",
       "      <td>...</td>\n",
       "      <td>1686</td>\n",
       "      <td>3152</td>\n",
       "      <td>2066</td>\n",
       "      <td>1554</td>\n",
       "      <td>2924</td>\n",
       "      <td>1900</td>\n",
       "      <td>3146</td>\n",
       "      <td>2071</td>\n",
       "      <td>2268</td>\n",
       "      <td>1</td>\n",
       "    </tr>\n",
       "    <tr>\n",
       "      <th>1</th>\n",
       "      <td>851</td>\n",
       "      <td>858</td>\n",
       "      <td>935</td>\n",
       "      <td>903</td>\n",
       "      <td>1120</td>\n",
       "      <td>1242</td>\n",
       "      <td>1269</td>\n",
       "      <td>1118</td>\n",
       "      <td>898</td>\n",
       "      <td>1079</td>\n",
       "      <td>...</td>\n",
       "      <td>997</td>\n",
       "      <td>1897</td>\n",
       "      <td>1300</td>\n",
       "      <td>981</td>\n",
       "      <td>1726</td>\n",
       "      <td>1077</td>\n",
       "      <td>1888</td>\n",
       "      <td>1302</td>\n",
       "      <td>1357</td>\n",
       "      <td>1</td>\n",
       "    </tr>\n",
       "    <tr>\n",
       "      <th>2</th>\n",
       "      <td>869</td>\n",
       "      <td>856</td>\n",
       "      <td>946</td>\n",
       "      <td>921</td>\n",
       "      <td>1107</td>\n",
       "      <td>1245</td>\n",
       "      <td>1262</td>\n",
       "      <td>1106</td>\n",
       "      <td>886</td>\n",
       "      <td>1082</td>\n",
       "      <td>...</td>\n",
       "      <td>923</td>\n",
       "      <td>1721</td>\n",
       "      <td>1205</td>\n",
       "      <td>914</td>\n",
       "      <td>1642</td>\n",
       "      <td>971</td>\n",
       "      <td>1710</td>\n",
       "      <td>1184</td>\n",
       "      <td>1233</td>\n",
       "      <td>1</td>\n",
       "    </tr>\n",
       "    <tr>\n",
       "      <th>3</th>\n",
       "      <td>865</td>\n",
       "      <td>855</td>\n",
       "      <td>939</td>\n",
       "      <td>924</td>\n",
       "      <td>1101</td>\n",
       "      <td>1243</td>\n",
       "      <td>1252</td>\n",
       "      <td>1104</td>\n",
       "      <td>893</td>\n",
       "      <td>1089</td>\n",
       "      <td>...</td>\n",
       "      <td>974</td>\n",
       "      <td>1688</td>\n",
       "      <td>1245</td>\n",
       "      <td>966</td>\n",
       "      <td>1663</td>\n",
       "      <td>951</td>\n",
       "      <td>1639</td>\n",
       "      <td>1188</td>\n",
       "      <td>1251</td>\n",
       "      <td>1</td>\n",
       "    </tr>\n",
       "    <tr>\n",
       "      <th>4</th>\n",
       "      <td>866</td>\n",
       "      <td>833</td>\n",
       "      <td>910</td>\n",
       "      <td>904</td>\n",
       "      <td>1086</td>\n",
       "      <td>1224</td>\n",
       "      <td>1258</td>\n",
       "      <td>1094</td>\n",
       "      <td>868</td>\n",
       "      <td>1086</td>\n",
       "      <td>...</td>\n",
       "      <td>976</td>\n",
       "      <td>1697</td>\n",
       "      <td>1242</td>\n",
       "      <td>984</td>\n",
       "      <td>1677</td>\n",
       "      <td>950</td>\n",
       "      <td>1636</td>\n",
       "      <td>1188</td>\n",
       "      <td>1252</td>\n",
       "      <td>2</td>\n",
       "    </tr>\n",
       "  </tbody>\n",
       "</table>\n",
       "<p>5 rows × 13648 columns</p>\n",
       "</div>"
      ],
      "text/plain": [
       "     0    1     2     3     4     5     6     7    8     9  ...    13638  \\\n",
       "0  990  941  1022  1004  1238  1380  1412  1199  933  1245  ...     1686   \n",
       "1  851  858   935   903  1120  1242  1269  1118  898  1079  ...      997   \n",
       "2  869  856   946   921  1107  1245  1262  1106  886  1082  ...      923   \n",
       "3  865  855   939   924  1101  1243  1252  1104  893  1089  ...      974   \n",
       "4  866  833   910   904  1086  1224  1258  1094  868  1086  ...      976   \n",
       "\n",
       "   13639  13640  13641  13642  13643  13644  13645  13646  label  \n",
       "0   3152   2066   1554   2924   1900   3146   2071   2268      1  \n",
       "1   1897   1300    981   1726   1077   1888   1302   1357      1  \n",
       "2   1721   1205    914   1642    971   1710   1184   1233      1  \n",
       "3   1688   1245    966   1663    951   1639   1188   1251      1  \n",
       "4   1697   1242    984   1677    950   1636   1188   1252      2  \n",
       "\n",
       "[5 rows x 13648 columns]"
      ]
     },
     "execution_count": 27,
     "metadata": {},
     "output_type": "execute_result"
    }
   ],
   "source": [
    "fmri_ROI_df['label']=label\n",
    "fmri_ROI_df.head()"
   ]
  },
  {
   "cell_type": "markdown",
   "metadata": {},
   "source": [
    "## SVM only"
   ]
  },
  {
   "cell_type": "code",
   "execution_count": 34,
   "metadata": {},
   "outputs": [
    {
     "name": "stdout",
     "output_type": "stream",
     "text": [
      "The hightest score: 0.8152173913043478\n",
      "The corresponding C: 0.01\n"
     ]
    },
    {
     "data": {
      "image/png": "[encoded data removed]",
      "text/plain": [
       "<matplotlib.figure.Figure at 0x1a19d9d400>"
      ]
     },
     "metadata": {},
     "output_type": "display_data"
    }
   ],
   "source": [
    "train,test=train_test_split(fmri_ROI_df,test_size=0.5)\n",
    "X_train=train[train.columns[0:(fmri_ROI_df.shape[1]-1)]]\n",
    "y_train=train['label']\n",
    "X_test=test[test.columns[0:(fmri_ROI_df.shape[1]-1)]]\n",
    "y_test=test['label']\n",
    "\n",
    "scores=[]\n",
    "index=[]\n",
    "\n",
    "for c in [0.01,0.1,1,10,100]:\n",
    "    clf=SVC(kernel='linear',C=c,gamma=100)\n",
    "    clf.fit(X_train,y_train)\n",
    "    index.append(c)\n",
    "    scores.append(clf.score(X_test,y_test))\n",
    "    \n",
    "fig = plt.figure()\n",
    "plt.plot(index,scores)\n",
    "fig.suptitle('SCORE VS C')\n",
    "plt.xlabel('C')\n",
    "plt.ylabel('SCORE')\n",
    "\n",
    "print('The hightest score:',max(scores))\n",
    "print('The corresponding C:',index[np.argmax(scores)])"
   ]
  },
  {
   "cell_type": "code",
   "execution_count": 35,
   "metadata": {},
   "outputs": [
    {
     "name": "stdout",
     "output_type": "stream",
     "text": [
      "The hightest score: 0.8152173913043478\n",
      "The corresponding C: 0.01\n"
     ]
    },
    {
     "data": {
      "image/png": "[encoded data removed]",
      "text/plain": [
       "<matplotlib.figure.Figure at 0x1a164d25c0>"
      ]
     },
     "metadata": {},
     "output_type": "display_data"
    }
   ],
   "source": [
    "scores=[]\n",
    "index=[]\n",
    "\n",
    "for c in [0.01,0.1,1,10,100]:\n",
    "    clf=SVC(kernel='linear',C=c,gamma=0.01)\n",
    "    clf.fit(X_train,y_train)\n",
    "    index.append(c)\n",
    "    scores.append(clf.score(X_test,y_test))\n",
    "    \n",
    "fig = plt.figure()\n",
    "plt.plot(index,scores)\n",
    "fig.suptitle('SCORE VS C')\n",
    "plt.xlabel('C')\n",
    "plt.ylabel('SCORE')\n",
    "\n",
    "print('The hightest score:',max(scores))\n",
    "print('The corresponding C:',index[np.argmax(scores)])"
   ]
  },
  {
   "cell_type": "code",
   "execution_count": 30,
   "metadata": {},
   "outputs": [],
   "source": [
    "scores=[]\n",
    "index=[]\n",
    "# save all scores of random state within range [1,150) \n",
    "for i in range(1,150):\n",
    "    train,test=train_test_split(fmri_ROI_df,test_size=0.5,random_state=i)\n",
    "    X_train=train[train.columns[0:(fmri_ROI_df.shape[1]-1)]]\n",
    "    y_train=train['label']\n",
    "    X_test=test[test.columns[0:(fmri_ROI_df.shape[1]-1)]]\n",
    "    y_test=test['label']\n",
    "    clf=SVC(kernel='linear',C=0.01,gamma=0.01)\n",
    "    clf.fit(X_train,y_train)\n",
    "    index.append(i)\n",
    "    scores.append(clf.score(X_test,y_test))"
   ]
  },
  {
   "cell_type": "code",
   "execution_count": 31,
   "metadata": {},
   "outputs": [
    {
     "data": {
      "text/plain": [
       "Text(0,0.5,'SCORE')"
      ]
     },
     "execution_count": 31,
     "metadata": {},
     "output_type": "execute_result"
    },
    {
     "data": {
      "image/png": "[encoded data removed]",
      "text/plain": [
       "<matplotlib.figure.Figure at 0x1a10ac0940>"
      ]
     },
     "metadata": {},
     "output_type": "display_data"
    }
   ],
   "source": [
    "fig = plt.figure()\n",
    "plt.plot(index,scores)\n",
    "fig.suptitle('SCORE VS RANDOM_STATE')\n",
    "plt.xlabel('RANDOM_STATE')\n",
    "plt.ylabel('SCORE')"
   ]
  },
  {
   "cell_type": "code",
   "execution_count": 32,
   "metadata": {},
   "outputs": [
    {
     "name": "stdout",
     "output_type": "stream",
     "text": [
      "The hightest score: 0.9347826086956522\n",
      "The corresponding random state: 71\n"
     ]
    }
   ],
   "source": [
    "print('The hightest score:',max(scores))\n",
    "print('The corresponding random state:',index[np.argmax(scores)])"
   ]
  },
  {
   "cell_type": "code",
   "execution_count": 36,
   "metadata": {},
   "outputs": [],
   "source": [
    "train,test=train_test_split(fmri_ROI_df,test_size=0.5,random_state=71)\n",
    "X_train=train[train.columns[0:(fmri_ROI_df.shape[1]-1)]]\n",
    "y_train=train['label']\n",
    "X_test=test[test.columns[0:(fmri_ROI_df.shape[1]-1)]]\n",
    "y_test=test['label']"
   ]
  },
  {
   "cell_type": "code",
   "execution_count": 37,
   "metadata": {},
   "outputs": [
    {
     "name": "stdout",
     "output_type": "stream",
     "text": [
      "Accuracy of the best: 0.9347826086956522\n"
     ]
    }
   ],
   "source": [
    "clf=SVC(kernel='linear',C=0.01,gamma=0.01)\n",
    "clf.fit(X_train,y_train)\n",
    "\n",
    "svm_pred=clf.predict(X_test)\n",
    "print('Accuracy of the best:',clf.score(X_test,y_test))"
   ]
  },
  {
   "cell_type": "code",
   "execution_count": 38,
   "metadata": {},
   "outputs": [
    {
     "name": "stdout",
     "output_type": "stream",
     "text": [
      "[[48  1  1  0]\n",
      " [ 4 10  0  0]\n",
      " [ 0  0 13  0]\n",
      " [ 0  0  0 15]]\n"
     ]
    }
   ],
   "source": [
    "print(confusion_matrix(y_test,svm_pred))"
   ]
  },
  {
   "cell_type": "code",
   "execution_count": 39,
   "metadata": {},
   "outputs": [
    {
     "name": "stdout",
     "output_type": "stream",
     "text": [
      "Predict Label: [1 2 1 4 1 1 3 2 1 3 4 1 2 3 1 1 3 4 1 1 2 1 4 4 2 1 2 3 1 1 1 1 1 1 1 1 1\n",
      " 3 4 1 4 1 1 2 1 4 3 1 1 1 3 1 4 1 1 4 1 2 1 3 1 1 4 1 1 2 1 3 4 4 1 1 1 4\n",
      " 1 1 1 1 3 1 4 1 3 2 3 1 1 3 1 1 2 1]\n",
      "Real Label: [1 2 1 4 1 1 3 2 1 3 4 1 2 3 1 1 3 4 1 1 2 2 4 4 2 1 2 3 2 1 1 1 1 1 1 2 1\n",
      " 3 4 1 4 1 1 2 1 4 3 1 1 1 3 1 4 1 1 4 1 1 1 3 1 2 4 1 1 2 1 3 4 4 1 1 1 4\n",
      " 1 1 1 1 3 1 4 1 3 2 3 1 1 1 1 1 2 1]\n"
     ]
    }
   ],
   "source": [
    "print('Predict Label:',svm_pred)\n",
    "print('Real Label:',np.transpose(y_test.tolist()))"
   ]
  },
  {
   "cell_type": "markdown",
   "metadata": {},
   "source": [
    "## PCA+SVM"
   ]
  },
  {
   "cell_type": "code",
   "execution_count": 40,
   "metadata": {},
   "outputs": [],
   "source": [
    "# Standardizing the features\n",
    "scale=StandardScaler()\n",
    "scale.fit(X_train)\n",
    "X_train=scale.transform(X_train)\n",
    "X_test=scale.transform(X_test)"
   ]
  },
  {
   "cell_type": "code",
   "execution_count": 41,
   "metadata": {},
   "outputs": [],
   "source": [
    "scores=[]\n",
    "index=[]\n",
    "# save all scores of the number of dimensionality reduction within range [10,150) \n",
    "for i in range(10,150):\n",
    "    pca = PCA(n_components=i)\n",
    "    pca.fit(X_train)\n",
    "    X_train_pca= pca.transform(X_train)\n",
    "    X_test_pca=pca.transform(X_test)\n",
    "\n",
    "    clf=SVC(kernel='linear',C=0.01,gamma=0.01)\n",
    "    clf.fit(X_train_pca,y_train)\n",
    "    \n",
    "    \n",
    "    index.append(i)\n",
    "    scores.append(clf.score(X_test_pca,y_test))"
   ]
  },
  {
   "cell_type": "code",
   "execution_count": 42,
   "metadata": {},
   "outputs": [
    {
     "data": {
      "text/plain": [
       "Text(0,0.5,'SCORE')"
      ]
     },
     "execution_count": 42,
     "metadata": {},
     "output_type": "execute_result"
    },
    {
     "data": {
      "image/png": "[encoded data removed]",
      "text/plain": [
       "<matplotlib.figure.Figure at 0x1a19d61550>"
      ]
     },
     "metadata": {},
     "output_type": "display_data"
    }
   ],
   "source": [
    "fig=plt.figure()\n",
    "plt.plot(index,scores)\n",
    "fig.suptitle('SCORE VS NUMBER OF PRINCIPLE COMPONENT')\n",
    "plt.xlabel('NUMBER OF PRINCIPLE COMPONENT')\n",
    "plt.ylabel('SCORE')"
   ]
  },
  {
   "cell_type": "code",
   "execution_count": 43,
   "metadata": {},
   "outputs": [
    {
     "name": "stdout",
     "output_type": "stream",
     "text": [
      "The hightest score: 0.9456521739130435\n",
      "The corresponding number of principle component: 67\n"
     ]
    }
   ],
   "source": [
    "print('The hightest score:',max(scores))\n",
    "print('The corresponding number of principle component:',index[np.argmax(scores)])"
   ]
  },
  {
   "cell_type": "code",
   "execution_count": 44,
   "metadata": {},
   "outputs": [
    {
     "name": "stdout",
     "output_type": "stream",
     "text": [
      "Accuracy of the best: 0.9239130434782609\n"
     ]
    }
   ],
   "source": [
    "pca = PCA(n_components=67)\n",
    "pca.fit(X_train)\n",
    "X_train_pca= pca.transform(X_train)\n",
    "X_test_pca=pca.transform(X_test)\n",
    "\n",
    "clf=SVC(kernel='linear',C=0.01,gamma=0.01)\n",
    "clf.fit(X_train_pca,y_train)\n",
    "\n",
    "print('Accuracy of the best:',clf.score(X_test_pca,y_test))\n",
    "\n",
    "pca_svm_pred=clf.predict(X_test_pca)"
   ]
  },
  {
   "cell_type": "code",
   "execution_count": 45,
   "metadata": {},
   "outputs": [
    {
     "name": "stdout",
     "output_type": "stream",
     "text": [
      "[[49  1  0  0]\n",
      " [ 6  8  0  0]\n",
      " [ 0  0 13  0]\n",
      " [ 0  0  0 15]]\n"
     ]
    }
   ],
   "source": [
    "print(confusion_matrix(y_test,pca_svm_pred))"
   ]
  },
  {
   "cell_type": "code",
   "execution_count": 46,
   "metadata": {},
   "outputs": [
    {
     "name": "stdout",
     "output_type": "stream",
     "text": [
      "Predict Label: [1 2 1 4 1 1 3 1 1 3 4 1 1 3 1 1 3 4 1 1 2 1 4 4 2 1 2 3 1 1 1 1 1 1 1 1 1\n",
      " 3 4 1 4 1 1 2 1 4 3 1 1 1 3 1 4 1 1 4 1 2 1 3 1 1 4 1 1 2 1 3 4 4 1 1 1 4\n",
      " 1 1 1 1 3 1 4 1 3 2 3 1 1 1 1 1 2 1]\n",
      "Real Label: [1 2 1 4 1 1 3 2 1 3 4 1 2 3 1 1 3 4 1 1 2 2 4 4 2 1 2 3 2 1 1 1 1 1 1 2 1\n",
      " 3 4 1 4 1 1 2 1 4 3 1 1 1 3 1 4 1 1 4 1 1 1 3 1 2 4 1 1 2 1 3 4 4 1 1 1 4\n",
      " 1 1 1 1 3 1 4 1 3 2 3 1 1 1 1 1 2 1]\n"
     ]
    }
   ],
   "source": [
    "print('Predict Label:',pca_svm_pred)\n",
    "print('Real Label:',np.transpose(y_test.tolist()))"
   ]
  },
  {
   "cell_type": "markdown",
   "metadata": {},
   "source": [
    "# sub-01/ses-retest Data (Threshold=500)"
   ]
  },
  {
   "cell_type": "code",
   "execution_count": 47,
   "metadata": {},
   "outputs": [],
   "source": [
    "fmri_mask=spio.loadmat('refMRImask500.mat')\n",
    "label=spio.loadmat('label.mat')\n",
    "fmri_ROI=fmri_mask['fMRIdata_1D_ROI']\n",
    "label=label['label']"
   ]
  },
  {
   "cell_type": "code",
   "execution_count": 48,
   "metadata": {},
   "outputs": [
    {
     "data": {
      "text/html": [
       "<div>\n",
       "<style scoped>\n",
       "    .dataframe tbody tr th:only-of-type {\n",
       "        vertical-align: middle;\n",
       "    }\n",
       "\n",
       "    .dataframe tbody tr th {\n",
       "        vertical-align: top;\n",
       "    }\n",
       "\n",
       "    .dataframe thead th {\n",
       "        text-align: right;\n",
       "    }\n",
       "</style>\n",
       "<table border=\"1\" class=\"dataframe\">\n",
       "  <thead>\n",
       "    <tr style=\"text-align: right;\">\n",
       "      <th></th>\n",
       "      <th>0</th>\n",
       "      <th>1</th>\n",
       "      <th>2</th>\n",
       "      <th>3</th>\n",
       "      <th>4</th>\n",
       "      <th>5</th>\n",
       "      <th>6</th>\n",
       "      <th>7</th>\n",
       "      <th>8</th>\n",
       "      <th>9</th>\n",
       "      <th>...</th>\n",
       "      <th>15878</th>\n",
       "      <th>15879</th>\n",
       "      <th>15880</th>\n",
       "      <th>15881</th>\n",
       "      <th>15882</th>\n",
       "      <th>15883</th>\n",
       "      <th>15884</th>\n",
       "      <th>15885</th>\n",
       "      <th>15886</th>\n",
       "      <th>15887</th>\n",
       "    </tr>\n",
       "  </thead>\n",
       "  <tbody>\n",
       "    <tr>\n",
       "      <th>0</th>\n",
       "      <td>715</td>\n",
       "      <td>760</td>\n",
       "      <td>712</td>\n",
       "      <td>1151</td>\n",
       "      <td>1391</td>\n",
       "      <td>1398</td>\n",
       "      <td>1229</td>\n",
       "      <td>1057</td>\n",
       "      <td>597</td>\n",
       "      <td>997</td>\n",
       "      <td>...</td>\n",
       "      <td>2485</td>\n",
       "      <td>2157</td>\n",
       "      <td>1406</td>\n",
       "      <td>1747</td>\n",
       "      <td>1013</td>\n",
       "      <td>1408</td>\n",
       "      <td>1073</td>\n",
       "      <td>1772</td>\n",
       "      <td>953</td>\n",
       "      <td>1038</td>\n",
       "    </tr>\n",
       "    <tr>\n",
       "      <th>1</th>\n",
       "      <td>680</td>\n",
       "      <td>738</td>\n",
       "      <td>660</td>\n",
       "      <td>1070</td>\n",
       "      <td>1283</td>\n",
       "      <td>1281</td>\n",
       "      <td>1090</td>\n",
       "      <td>954</td>\n",
       "      <td>564</td>\n",
       "      <td>933</td>\n",
       "      <td>...</td>\n",
       "      <td>1357</td>\n",
       "      <td>1213</td>\n",
       "      <td>850</td>\n",
       "      <td>1027</td>\n",
       "      <td>726</td>\n",
       "      <td>919</td>\n",
       "      <td>692</td>\n",
       "      <td>1106</td>\n",
       "      <td>662</td>\n",
       "      <td>704</td>\n",
       "    </tr>\n",
       "    <tr>\n",
       "      <th>2</th>\n",
       "      <td>671</td>\n",
       "      <td>709</td>\n",
       "      <td>662</td>\n",
       "      <td>1070</td>\n",
       "      <td>1273</td>\n",
       "      <td>1267</td>\n",
       "      <td>1110</td>\n",
       "      <td>953</td>\n",
       "      <td>579</td>\n",
       "      <td>935</td>\n",
       "      <td>...</td>\n",
       "      <td>1259</td>\n",
       "      <td>1127</td>\n",
       "      <td>794</td>\n",
       "      <td>952</td>\n",
       "      <td>670</td>\n",
       "      <td>853</td>\n",
       "      <td>634</td>\n",
       "      <td>1008</td>\n",
       "      <td>632</td>\n",
       "      <td>648</td>\n",
       "    </tr>\n",
       "    <tr>\n",
       "      <th>3</th>\n",
       "      <td>668</td>\n",
       "      <td>702</td>\n",
       "      <td>640</td>\n",
       "      <td>1039</td>\n",
       "      <td>1268</td>\n",
       "      <td>1281</td>\n",
       "      <td>1121</td>\n",
       "      <td>955</td>\n",
       "      <td>579</td>\n",
       "      <td>946</td>\n",
       "      <td>...</td>\n",
       "      <td>1221</td>\n",
       "      <td>1087</td>\n",
       "      <td>720</td>\n",
       "      <td>881</td>\n",
       "      <td>696</td>\n",
       "      <td>842</td>\n",
       "      <td>651</td>\n",
       "      <td>1008</td>\n",
       "      <td>613</td>\n",
       "      <td>665</td>\n",
       "    </tr>\n",
       "    <tr>\n",
       "      <th>4</th>\n",
       "      <td>639</td>\n",
       "      <td>676</td>\n",
       "      <td>624</td>\n",
       "      <td>1052</td>\n",
       "      <td>1261</td>\n",
       "      <td>1267</td>\n",
       "      <td>1109</td>\n",
       "      <td>934</td>\n",
       "      <td>572</td>\n",
       "      <td>960</td>\n",
       "      <td>...</td>\n",
       "      <td>1260</td>\n",
       "      <td>1107</td>\n",
       "      <td>730</td>\n",
       "      <td>879</td>\n",
       "      <td>695</td>\n",
       "      <td>863</td>\n",
       "      <td>667</td>\n",
       "      <td>1029</td>\n",
       "      <td>602</td>\n",
       "      <td>696</td>\n",
       "    </tr>\n",
       "  </tbody>\n",
       "</table>\n",
       "<p>5 rows × 15888 columns</p>\n",
       "</div>"
      ],
      "text/plain": [
       "   0      1      2      3      4      5      6      7      8      9      \\\n",
       "0    715    760    712   1151   1391   1398   1229   1057    597    997   \n",
       "1    680    738    660   1070   1283   1281   1090    954    564    933   \n",
       "2    671    709    662   1070   1273   1267   1110    953    579    935   \n",
       "3    668    702    640   1039   1268   1281   1121    955    579    946   \n",
       "4    639    676    624   1052   1261   1267   1109    934    572    960   \n",
       "\n",
       "   ...    15878  15879  15880  15881  15882  15883  15884  15885  15886  15887  \n",
       "0  ...     2485   2157   1406   1747   1013   1408   1073   1772    953   1038  \n",
       "1  ...     1357   1213    850   1027    726    919    692   1106    662    704  \n",
       "2  ...     1259   1127    794    952    670    853    634   1008    632    648  \n",
       "3  ...     1221   1087    720    881    696    842    651   1008    613    665  \n",
       "4  ...     1260   1107    730    879    695    863    667   1029    602    696  \n",
       "\n",
       "[5 rows x 15888 columns]"
      ]
     },
     "execution_count": 48,
     "metadata": {},
     "output_type": "execute_result"
    }
   ],
   "source": [
    "fmri_ROI_df=pd.DataFrame(fmri_ROI)\n",
    "fmri_ROI_df.head()"
   ]
  },
  {
   "cell_type": "code",
   "execution_count": 49,
   "metadata": {},
   "outputs": [
    {
     "data": {
      "text/html": [
       "<div>\n",
       "<style scoped>\n",
       "    .dataframe tbody tr th:only-of-type {\n",
       "        vertical-align: middle;\n",
       "    }\n",
       "\n",
       "    .dataframe tbody tr th {\n",
       "        vertical-align: top;\n",
       "    }\n",
       "\n",
       "    .dataframe thead th {\n",
       "        text-align: right;\n",
       "    }\n",
       "</style>\n",
       "<table border=\"1\" class=\"dataframe\">\n",
       "  <thead>\n",
       "    <tr style=\"text-align: right;\">\n",
       "      <th></th>\n",
       "      <th>0</th>\n",
       "      <th>1</th>\n",
       "      <th>2</th>\n",
       "      <th>3</th>\n",
       "      <th>4</th>\n",
       "      <th>5</th>\n",
       "      <th>6</th>\n",
       "      <th>7</th>\n",
       "      <th>8</th>\n",
       "      <th>9</th>\n",
       "      <th>...</th>\n",
       "      <th>15879</th>\n",
       "      <th>15880</th>\n",
       "      <th>15881</th>\n",
       "      <th>15882</th>\n",
       "      <th>15883</th>\n",
       "      <th>15884</th>\n",
       "      <th>15885</th>\n",
       "      <th>15886</th>\n",
       "      <th>15887</th>\n",
       "      <th>label</th>\n",
       "    </tr>\n",
       "  </thead>\n",
       "  <tbody>\n",
       "    <tr>\n",
       "      <th>0</th>\n",
       "      <td>715</td>\n",
       "      <td>760</td>\n",
       "      <td>712</td>\n",
       "      <td>1151</td>\n",
       "      <td>1391</td>\n",
       "      <td>1398</td>\n",
       "      <td>1229</td>\n",
       "      <td>1057</td>\n",
       "      <td>597</td>\n",
       "      <td>997</td>\n",
       "      <td>...</td>\n",
       "      <td>2157</td>\n",
       "      <td>1406</td>\n",
       "      <td>1747</td>\n",
       "      <td>1013</td>\n",
       "      <td>1408</td>\n",
       "      <td>1073</td>\n",
       "      <td>1772</td>\n",
       "      <td>953</td>\n",
       "      <td>1038</td>\n",
       "      <td>1</td>\n",
       "    </tr>\n",
       "    <tr>\n",
       "      <th>1</th>\n",
       "      <td>680</td>\n",
       "      <td>738</td>\n",
       "      <td>660</td>\n",
       "      <td>1070</td>\n",
       "      <td>1283</td>\n",
       "      <td>1281</td>\n",
       "      <td>1090</td>\n",
       "      <td>954</td>\n",
       "      <td>564</td>\n",
       "      <td>933</td>\n",
       "      <td>...</td>\n",
       "      <td>1213</td>\n",
       "      <td>850</td>\n",
       "      <td>1027</td>\n",
       "      <td>726</td>\n",
       "      <td>919</td>\n",
       "      <td>692</td>\n",
       "      <td>1106</td>\n",
       "      <td>662</td>\n",
       "      <td>704</td>\n",
       "      <td>1</td>\n",
       "    </tr>\n",
       "    <tr>\n",
       "      <th>2</th>\n",
       "      <td>671</td>\n",
       "      <td>709</td>\n",
       "      <td>662</td>\n",
       "      <td>1070</td>\n",
       "      <td>1273</td>\n",
       "      <td>1267</td>\n",
       "      <td>1110</td>\n",
       "      <td>953</td>\n",
       "      <td>579</td>\n",
       "      <td>935</td>\n",
       "      <td>...</td>\n",
       "      <td>1127</td>\n",
       "      <td>794</td>\n",
       "      <td>952</td>\n",
       "      <td>670</td>\n",
       "      <td>853</td>\n",
       "      <td>634</td>\n",
       "      <td>1008</td>\n",
       "      <td>632</td>\n",
       "      <td>648</td>\n",
       "      <td>1</td>\n",
       "    </tr>\n",
       "    <tr>\n",
       "      <th>3</th>\n",
       "      <td>668</td>\n",
       "      <td>702</td>\n",
       "      <td>640</td>\n",
       "      <td>1039</td>\n",
       "      <td>1268</td>\n",
       "      <td>1281</td>\n",
       "      <td>1121</td>\n",
       "      <td>955</td>\n",
       "      <td>579</td>\n",
       "      <td>946</td>\n",
       "      <td>...</td>\n",
       "      <td>1087</td>\n",
       "      <td>720</td>\n",
       "      <td>881</td>\n",
       "      <td>696</td>\n",
       "      <td>842</td>\n",
       "      <td>651</td>\n",
       "      <td>1008</td>\n",
       "      <td>613</td>\n",
       "      <td>665</td>\n",
       "      <td>1</td>\n",
       "    </tr>\n",
       "    <tr>\n",
       "      <th>4</th>\n",
       "      <td>639</td>\n",
       "      <td>676</td>\n",
       "      <td>624</td>\n",
       "      <td>1052</td>\n",
       "      <td>1261</td>\n",
       "      <td>1267</td>\n",
       "      <td>1109</td>\n",
       "      <td>934</td>\n",
       "      <td>572</td>\n",
       "      <td>960</td>\n",
       "      <td>...</td>\n",
       "      <td>1107</td>\n",
       "      <td>730</td>\n",
       "      <td>879</td>\n",
       "      <td>695</td>\n",
       "      <td>863</td>\n",
       "      <td>667</td>\n",
       "      <td>1029</td>\n",
       "      <td>602</td>\n",
       "      <td>696</td>\n",
       "      <td>2</td>\n",
       "    </tr>\n",
       "  </tbody>\n",
       "</table>\n",
       "<p>5 rows × 15889 columns</p>\n",
       "</div>"
      ],
      "text/plain": [
       "     0    1    2     3     4     5     6     7    8    9  ...    15879  15880  \\\n",
       "0  715  760  712  1151  1391  1398  1229  1057  597  997  ...     2157   1406   \n",
       "1  680  738  660  1070  1283  1281  1090   954  564  933  ...     1213    850   \n",
       "2  671  709  662  1070  1273  1267  1110   953  579  935  ...     1127    794   \n",
       "3  668  702  640  1039  1268  1281  1121   955  579  946  ...     1087    720   \n",
       "4  639  676  624  1052  1261  1267  1109   934  572  960  ...     1107    730   \n",
       "\n",
       "   15881  15882  15883  15884  15885  15886  15887  label  \n",
       "0   1747   1013   1408   1073   1772    953   1038      1  \n",
       "1   1027    726    919    692   1106    662    704      1  \n",
       "2    952    670    853    634   1008    632    648      1  \n",
       "3    881    696    842    651   1008    613    665      1  \n",
       "4    879    695    863    667   1029    602    696      2  \n",
       "\n",
       "[5 rows x 15889 columns]"
      ]
     },
     "execution_count": 49,
     "metadata": {},
     "output_type": "execute_result"
    }
   ],
   "source": [
    "fmri_ROI_df['label']=label\n",
    "fmri_ROI_df.head()"
   ]
  },
  {
   "cell_type": "markdown",
   "metadata": {},
   "source": [
    "## SVM only"
   ]
  },
  {
   "cell_type": "code",
   "execution_count": 54,
   "metadata": {},
   "outputs": [
    {
     "name": "stdout",
     "output_type": "stream",
     "text": [
      "The hightest score: 0.717391304347826\n",
      "The corresponding C: 0.01\n"
     ]
    },
    {
     "data": {
      "image/png": "[encoded data removed]",
      "text/plain": [
       "<matplotlib.figure.Figure at 0x1a1a371080>"
      ]
     },
     "metadata": {},
     "output_type": "display_data"
    }
   ],
   "source": [
    "train,test=train_test_split(fmri_ROI_df,test_size=0.5)\n",
    "X_train=train[train.columns[0:(fmri_ROI_df.shape[1]-1)]]\n",
    "y_train=train['label']\n",
    "X_test=test[test.columns[0:(fmri_ROI_df.shape[1]-1)]]\n",
    "y_test=test['label']\n",
    "\n",
    "scores=[]\n",
    "index=[]\n",
    "\n",
    "for c in [0.01,0.1,1,10,100]:\n",
    "    clf=SVC(kernel='linear',C=c,gamma=100)\n",
    "    clf.fit(X_train,y_train)\n",
    "    index.append(c)\n",
    "    scores.append(clf.score(X_test,y_test))\n",
    "    \n",
    "fig = plt.figure()\n",
    "plt.plot(index,scores)\n",
    "fig.suptitle('SCORE VS C')\n",
    "plt.xlabel('C')\n",
    "plt.ylabel('SCORE')\n",
    "\n",
    "print('The hightest score:',max(scores))\n",
    "print('The corresponding C:',index[np.argmax(scores)])"
   ]
  },
  {
   "cell_type": "code",
   "execution_count": 55,
   "metadata": {},
   "outputs": [
    {
     "name": "stdout",
     "output_type": "stream",
     "text": [
      "The hightest score: 0.717391304347826\n",
      "The corresponding C: 0.01\n"
     ]
    },
    {
     "data": {
      "image/png": "[encoded data removed]",
      "text/plain": [
       "<matplotlib.figure.Figure at 0x1a19c87e80>"
      ]
     },
     "metadata": {},
     "output_type": "display_data"
    }
   ],
   "source": [
    "scores=[]\n",
    "index=[]\n",
    "\n",
    "for c in [0.01,0.1,1,10,100]:\n",
    "    clf=SVC(kernel='linear',C=c,gamma=0.01)\n",
    "    clf.fit(X_train,y_train)\n",
    "    index.append(c)\n",
    "    scores.append(clf.score(X_test,y_test))\n",
    "    \n",
    "fig = plt.figure()\n",
    "plt.plot(index,scores)\n",
    "fig.suptitle('SCORE VS C')\n",
    "plt.xlabel('C')\n",
    "plt.ylabel('SCORE')\n",
    "\n",
    "print('The hightest score:',max(scores))\n",
    "print('The corresponding C:',index[np.argmax(scores)])"
   ]
  },
  {
   "cell_type": "code",
   "execution_count": 56,
   "metadata": {},
   "outputs": [],
   "source": [
    "scores=[]\n",
    "index=[]\n",
    "# save all scores of random state within range [1,150) \n",
    "for i in range(1,150):\n",
    "    train,test=train_test_split(fmri_ROI_df,test_size=0.5,random_state=i)\n",
    "    X_train=train[train.columns[0:(fmri_ROI_df.shape[1]-1)]]\n",
    "    y_train=train['label']\n",
    "    X_test=test[test.columns[0:(fmri_ROI_df.shape[1]-1)]]\n",
    "    y_test=test['label']\n",
    "    clf=SVC(kernel='linear',C=0.01,gamma=0.01)\n",
    "    clf.fit(X_train,y_train)\n",
    "    index.append(i)\n",
    "    scores.append(clf.score(X_test,y_test))"
   ]
  },
  {
   "cell_type": "code",
   "execution_count": 57,
   "metadata": {},
   "outputs": [
    {
     "data": {
      "text/plain": [
       "Text(0,0.5,'SCORE')"
      ]
     },
     "execution_count": 57,
     "metadata": {},
     "output_type": "execute_result"
    },
    {
     "data": {
      "image/png": "[encoded data removed]",
      "text/plain": [
       "<matplotlib.figure.Figure at 0x1a1a7dbf60>"
      ]
     },
     "metadata": {},
     "output_type": "display_data"
    }
   ],
   "source": [
    "fig = plt.figure()\n",
    "plt.plot(index,scores)\n",
    "fig.suptitle('SCORE VS RANDOM_STATE')\n",
    "plt.xlabel('RANDOM_STATE')\n",
    "plt.ylabel('SCORE')"
   ]
  },
  {
   "cell_type": "code",
   "execution_count": 58,
   "metadata": {},
   "outputs": [
    {
     "name": "stdout",
     "output_type": "stream",
     "text": [
      "The hightest score: 0.8586956521739131\n",
      "The corresponding random state: 83\n"
     ]
    }
   ],
   "source": [
    "print('The hightest score:',max(scores))\n",
    "print('The corresponding random state:',index[np.argmax(scores)])"
   ]
  },
  {
   "cell_type": "code",
   "execution_count": 59,
   "metadata": {},
   "outputs": [],
   "source": [
    "train,test=train_test_split(fmri_ROI_df,test_size=0.5,random_state=83)\n",
    "X_train=train[train.columns[0:(fmri_ROI_df.shape[1]-1)]]\n",
    "y_train=train['label']\n",
    "X_test=test[test.columns[0:(fmri_ROI_df.shape[1]-1)]]\n",
    "y_test=test['label']"
   ]
  },
  {
   "cell_type": "code",
   "execution_count": 60,
   "metadata": {},
   "outputs": [
    {
     "name": "stdout",
     "output_type": "stream",
     "text": [
      "Accuracy of the best: 0.8586956521739131\n"
     ]
    }
   ],
   "source": [
    "clf=SVC(kernel='linear',C=0.01,gamma=0.01)\n",
    "clf.fit(X_train,y_train)\n",
    "\n",
    "svm_pred=clf.predict(X_test)\n",
    "print('Accuracy of the best:',clf.score(X_test,y_test))"
   ]
  },
  {
   "cell_type": "code",
   "execution_count": 61,
   "metadata": {},
   "outputs": [
    {
     "name": "stdout",
     "output_type": "stream",
     "text": [
      "[[46  3  1  2]\n",
      " [ 3 12  0  0]\n",
      " [ 1  0 11  0]\n",
      " [ 2  1  0 10]]\n"
     ]
    }
   ],
   "source": [
    "print(confusion_matrix(y_test,svm_pred))"
   ]
  },
  {
   "cell_type": "code",
   "execution_count": 62,
   "metadata": {},
   "outputs": [
    {
     "name": "stdout",
     "output_type": "stream",
     "text": [
      "Predict Label: [1 4 2 1 2 1 1 1 3 1 2 3 3 4 1 1 1 1 1 3 1 1 4 1 1 2 1 1 2 1 1 1 2 1 2 3 3\n",
      " 1 4 1 2 1 4 1 4 1 2 4 1 2 1 1 3 1 1 1 4 3 1 1 4 1 2 1 1 1 2 1 1 1 1 1 1 1\n",
      " 4 1 1 4 1 3 1 2 3 2 2 2 4 3 1 3 1 1]\n",
      "Real Label: [1 1 2 1 2 1 1 1 3 1 1 3 3 4 1 1 1 1 1 3 1 1 4 1 1 2 2 1 2 1 1 1 2 1 2 3 3\n",
      " 1 4 1 2 1 4 1 4 1 4 1 3 1 1 4 3 1 1 1 4 3 1 1 4 1 1 1 1 1 2 1 1 1 1 1 1 4\n",
      " 4 1 1 4 1 3 1 2 3 2 2 2 4 3 2 1 1 2]\n"
     ]
    }
   ],
   "source": [
    "print('Predict Label:',svm_pred)\n",
    "print('Real Label:',np.transpose(y_test.tolist()))"
   ]
  },
  {
   "cell_type": "markdown",
   "metadata": {},
   "source": [
    "## PCA+SVM"
   ]
  },
  {
   "cell_type": "code",
   "execution_count": 63,
   "metadata": {},
   "outputs": [],
   "source": [
    "# Standardizing the features\n",
    "scale=StandardScaler()\n",
    "scale.fit(X_train)\n",
    "X_train=scale.transform(X_train)\n",
    "X_test=scale.transform(X_test)"
   ]
  },
  {
   "cell_type": "code",
   "execution_count": 64,
   "metadata": {},
   "outputs": [],
   "source": [
    "scores=[]\n",
    "index=[]\n",
    "# save all scores of the number of dimensionality reduction within range [10,150) \n",
    "for i in range(10,150):\n",
    "    pca = PCA(n_components=i)\n",
    "    pca.fit(X_train)\n",
    "    X_train_pca= pca.transform(X_train)\n",
    "    X_test_pca=pca.transform(X_test)\n",
    "\n",
    "    clf=SVC(kernel='linear',C=0.01,gamma=0.01)\n",
    "    clf.fit(X_train_pca,y_train)\n",
    "    \n",
    "    \n",
    "    index.append(i)\n",
    "    scores.append(clf.score(X_test_pca,y_test))\n",
    "    \n",
    "\n"
   ]
  },
  {
   "cell_type": "code",
   "execution_count": 65,
   "metadata": {},
   "outputs": [
    {
     "data": {
      "text/plain": [
       "Text(0,0.5,'SCORE')"
      ]
     },
     "execution_count": 65,
     "metadata": {},
     "output_type": "execute_result"
    },
    {
     "data": {
      "image/png": "[encoded data removed]",
      "text/plain": [
       "<matplotlib.figure.Figure at 0x1a1a294eb8>"
      ]
     },
     "metadata": {},
     "output_type": "display_data"
    }
   ],
   "source": [
    "fig=plt.figure()\n",
    "plt.plot(index,scores)\n",
    "fig.suptitle('SCORE VS NUMBER OF PRINCIPLE COMPONENT')\n",
    "plt.xlabel('NUMBER OF PRINCIPLE COMPONENT')\n",
    "plt.ylabel('SCORE')"
   ]
  },
  {
   "cell_type": "code",
   "execution_count": 66,
   "metadata": {},
   "outputs": [
    {
     "name": "stdout",
     "output_type": "stream",
     "text": [
      "The hightest score: 0.8260869565217391\n",
      "The corresponding number of principle component: 84\n"
     ]
    }
   ],
   "source": [
    "print('The hightest score:',max(scores))\n",
    "print('The corresponding number of principle component:',index[np.argmax(scores)])"
   ]
  },
  {
   "cell_type": "code",
   "execution_count": 67,
   "metadata": {},
   "outputs": [
    {
     "name": "stdout",
     "output_type": "stream",
     "text": [
      "Accuracy of the best: 0.8260869565217391\n"
     ]
    }
   ],
   "source": [
    "pca = PCA(n_components=84)\n",
    "pca.fit(X_train)\n",
    "X_train_pca= pca.transform(X_train)\n",
    "X_test_pca=pca.transform(X_test)\n",
    "\n",
    "clf=SVC(kernel='linear',C=0.01,gamma=0.01)\n",
    "clf.fit(X_train_pca,y_train)\n",
    "\n",
    "svm_pred2=clf.predict(X_test_pca)\n",
    "print('Accuracy of the best:',clf.score(X_test_pca,y_test))\n",
    "\n",
    "pca_svm_pred=clf.predict(X_test_pca)"
   ]
  },
  {
   "cell_type": "code",
   "execution_count": 68,
   "metadata": {},
   "outputs": [
    {
     "name": "stdout",
     "output_type": "stream",
     "text": [
      "[[47  2  1  2]\n",
      " [ 7  8  0  0]\n",
      " [ 1  0 11  0]\n",
      " [ 2  1  0 10]]\n"
     ]
    }
   ],
   "source": [
    "print(confusion_matrix(y_test,pca_svm_pred))"
   ]
  },
  {
   "cell_type": "code",
   "execution_count": 69,
   "metadata": {},
   "outputs": [
    {
     "name": "stdout",
     "output_type": "stream",
     "text": [
      "Predict Label: [1 4 2 1 1 1 1 1 3 1 2 3 3 4 1 1 1 1 1 3 1 1 4 1 1 1 1 1 1 1 1 1 1 1 2 3 3\n",
      " 1 4 1 2 1 4 1 4 1 2 1 1 4 1 4 3 1 1 1 1 3 1 1 4 1 2 1 1 1 2 1 1 1 1 1 1 1\n",
      " 4 1 1 4 1 3 1 2 3 2 2 2 4 3 1 3 1 1]\n",
      "Real Label: [1 1 2 1 2 1 1 1 3 1 1 3 3 4 1 1 1 1 1 3 1 1 4 1 1 2 2 1 2 1 1 1 2 1 2 3 3\n",
      " 1 4 1 2 1 4 1 4 1 4 1 3 1 1 4 3 1 1 1 4 3 1 1 4 1 1 1 1 1 2 1 1 1 1 1 1 4\n",
      " 4 1 1 4 1 3 1 2 3 2 2 2 4 3 2 1 1 2]\n"
     ]
    }
   ],
   "source": [
    "print('Predict Label:',pca_svm_pred)\n",
    "print('Real Label:',np.transpose(y_test.tolist()))"
   ]
  },
  {
   "cell_type": "markdown",
   "metadata": {},
   "source": [
    "# sub-01/ses-retest Data (Threshold=800)"
   ]
  },
  {
   "cell_type": "code",
   "execution_count": 70,
   "metadata": {},
   "outputs": [],
   "source": [
    "fmri_mask=spio.loadmat('refMRImask800.mat')\n",
    "label=spio.loadmat('label.mat')\n",
    "fmri_ROI=fmri_mask['fMRIdata_1D_ROI']\n",
    "label=label['label']"
   ]
  },
  {
   "cell_type": "code",
   "execution_count": 71,
   "metadata": {},
   "outputs": [
    {
     "data": {
      "text/html": [
       "<div>\n",
       "<style scoped>\n",
       "    .dataframe tbody tr th:only-of-type {\n",
       "        vertical-align: middle;\n",
       "    }\n",
       "\n",
       "    .dataframe tbody tr th {\n",
       "        vertical-align: top;\n",
       "    }\n",
       "\n",
       "    .dataframe thead th {\n",
       "        text-align: right;\n",
       "    }\n",
       "</style>\n",
       "<table border=\"1\" class=\"dataframe\">\n",
       "  <thead>\n",
       "    <tr style=\"text-align: right;\">\n",
       "      <th></th>\n",
       "      <th>0</th>\n",
       "      <th>1</th>\n",
       "      <th>2</th>\n",
       "      <th>3</th>\n",
       "      <th>4</th>\n",
       "      <th>5</th>\n",
       "      <th>6</th>\n",
       "      <th>7</th>\n",
       "      <th>8</th>\n",
       "      <th>9</th>\n",
       "      <th>...</th>\n",
       "      <th>14368</th>\n",
       "      <th>14369</th>\n",
       "      <th>14370</th>\n",
       "      <th>14371</th>\n",
       "      <th>14372</th>\n",
       "      <th>14373</th>\n",
       "      <th>14374</th>\n",
       "      <th>14375</th>\n",
       "      <th>14376</th>\n",
       "      <th>14377</th>\n",
       "    </tr>\n",
       "  </thead>\n",
       "  <tbody>\n",
       "    <tr>\n",
       "      <th>0</th>\n",
       "      <td>1151</td>\n",
       "      <td>1391</td>\n",
       "      <td>1398</td>\n",
       "      <td>1229</td>\n",
       "      <td>1057</td>\n",
       "      <td>997</td>\n",
       "      <td>1151</td>\n",
       "      <td>1238</td>\n",
       "      <td>1372</td>\n",
       "      <td>1361</td>\n",
       "      <td>...</td>\n",
       "      <td>2302</td>\n",
       "      <td>2323</td>\n",
       "      <td>2208</td>\n",
       "      <td>1716</td>\n",
       "      <td>1850</td>\n",
       "      <td>2481</td>\n",
       "      <td>1965</td>\n",
       "      <td>2485</td>\n",
       "      <td>2157</td>\n",
       "      <td>1772</td>\n",
       "    </tr>\n",
       "    <tr>\n",
       "      <th>1</th>\n",
       "      <td>1070</td>\n",
       "      <td>1283</td>\n",
       "      <td>1281</td>\n",
       "      <td>1090</td>\n",
       "      <td>954</td>\n",
       "      <td>933</td>\n",
       "      <td>1083</td>\n",
       "      <td>1148</td>\n",
       "      <td>1227</td>\n",
       "      <td>1179</td>\n",
       "      <td>...</td>\n",
       "      <td>1270</td>\n",
       "      <td>1379</td>\n",
       "      <td>1329</td>\n",
       "      <td>1026</td>\n",
       "      <td>964</td>\n",
       "      <td>1389</td>\n",
       "      <td>1079</td>\n",
       "      <td>1357</td>\n",
       "      <td>1213</td>\n",
       "      <td>1106</td>\n",
       "    </tr>\n",
       "    <tr>\n",
       "      <th>2</th>\n",
       "      <td>1070</td>\n",
       "      <td>1273</td>\n",
       "      <td>1267</td>\n",
       "      <td>1110</td>\n",
       "      <td>953</td>\n",
       "      <td>935</td>\n",
       "      <td>1065</td>\n",
       "      <td>1155</td>\n",
       "      <td>1214</td>\n",
       "      <td>1160</td>\n",
       "      <td>...</td>\n",
       "      <td>1177</td>\n",
       "      <td>1283</td>\n",
       "      <td>1266</td>\n",
       "      <td>970</td>\n",
       "      <td>917</td>\n",
       "      <td>1305</td>\n",
       "      <td>1006</td>\n",
       "      <td>1259</td>\n",
       "      <td>1127</td>\n",
       "      <td>1008</td>\n",
       "    </tr>\n",
       "    <tr>\n",
       "      <th>3</th>\n",
       "      <td>1039</td>\n",
       "      <td>1268</td>\n",
       "      <td>1281</td>\n",
       "      <td>1121</td>\n",
       "      <td>955</td>\n",
       "      <td>946</td>\n",
       "      <td>1073</td>\n",
       "      <td>1146</td>\n",
       "      <td>1208</td>\n",
       "      <td>1135</td>\n",
       "      <td>...</td>\n",
       "      <td>1167</td>\n",
       "      <td>1280</td>\n",
       "      <td>1243</td>\n",
       "      <td>924</td>\n",
       "      <td>902</td>\n",
       "      <td>1304</td>\n",
       "      <td>950</td>\n",
       "      <td>1221</td>\n",
       "      <td>1087</td>\n",
       "      <td>1008</td>\n",
       "    </tr>\n",
       "    <tr>\n",
       "      <th>4</th>\n",
       "      <td>1052</td>\n",
       "      <td>1261</td>\n",
       "      <td>1267</td>\n",
       "      <td>1109</td>\n",
       "      <td>934</td>\n",
       "      <td>960</td>\n",
       "      <td>1066</td>\n",
       "      <td>1143</td>\n",
       "      <td>1210</td>\n",
       "      <td>1133</td>\n",
       "      <td>...</td>\n",
       "      <td>1200</td>\n",
       "      <td>1327</td>\n",
       "      <td>1258</td>\n",
       "      <td>902</td>\n",
       "      <td>911</td>\n",
       "      <td>1294</td>\n",
       "      <td>956</td>\n",
       "      <td>1260</td>\n",
       "      <td>1107</td>\n",
       "      <td>1029</td>\n",
       "    </tr>\n",
       "  </tbody>\n",
       "</table>\n",
       "<p>5 rows × 14378 columns</p>\n",
       "</div>"
      ],
      "text/plain": [
       "   0      1      2      3      4      5      6      7      8      9      \\\n",
       "0   1151   1391   1398   1229   1057    997   1151   1238   1372   1361   \n",
       "1   1070   1283   1281   1090    954    933   1083   1148   1227   1179   \n",
       "2   1070   1273   1267   1110    953    935   1065   1155   1214   1160   \n",
       "3   1039   1268   1281   1121    955    946   1073   1146   1208   1135   \n",
       "4   1052   1261   1267   1109    934    960   1066   1143   1210   1133   \n",
       "\n",
       "   ...    14368  14369  14370  14371  14372  14373  14374  14375  14376  14377  \n",
       "0  ...     2302   2323   2208   1716   1850   2481   1965   2485   2157   1772  \n",
       "1  ...     1270   1379   1329   1026    964   1389   1079   1357   1213   1106  \n",
       "2  ...     1177   1283   1266    970    917   1305   1006   1259   1127   1008  \n",
       "3  ...     1167   1280   1243    924    902   1304    950   1221   1087   1008  \n",
       "4  ...     1200   1327   1258    902    911   1294    956   1260   1107   1029  \n",
       "\n",
       "[5 rows x 14378 columns]"
      ]
     },
     "execution_count": 71,
     "metadata": {},
     "output_type": "execute_result"
    }
   ],
   "source": [
    "fmri_ROI_df=pd.DataFrame(fmri_ROI)\n",
    "fmri_ROI_df.head()"
   ]
  },
  {
   "cell_type": "code",
   "execution_count": 72,
   "metadata": {},
   "outputs": [
    {
     "data": {
      "text/html": [
       "<div>\n",
       "<style scoped>\n",
       "    .dataframe tbody tr th:only-of-type {\n",
       "        vertical-align: middle;\n",
       "    }\n",
       "\n",
       "    .dataframe tbody tr th {\n",
       "        vertical-align: top;\n",
       "    }\n",
       "\n",
       "    .dataframe thead th {\n",
       "        text-align: right;\n",
       "    }\n",
       "</style>\n",
       "<table border=\"1\" class=\"dataframe\">\n",
       "  <thead>\n",
       "    <tr style=\"text-align: right;\">\n",
       "      <th></th>\n",
       "      <th>0</th>\n",
       "      <th>1</th>\n",
       "      <th>2</th>\n",
       "      <th>3</th>\n",
       "      <th>4</th>\n",
       "      <th>5</th>\n",
       "      <th>6</th>\n",
       "      <th>7</th>\n",
       "      <th>8</th>\n",
       "      <th>9</th>\n",
       "      <th>...</th>\n",
       "      <th>14369</th>\n",
       "      <th>14370</th>\n",
       "      <th>14371</th>\n",
       "      <th>14372</th>\n",
       "      <th>14373</th>\n",
       "      <th>14374</th>\n",
       "      <th>14375</th>\n",
       "      <th>14376</th>\n",
       "      <th>14377</th>\n",
       "      <th>label</th>\n",
       "    </tr>\n",
       "  </thead>\n",
       "  <tbody>\n",
       "    <tr>\n",
       "      <th>0</th>\n",
       "      <td>1151</td>\n",
       "      <td>1391</td>\n",
       "      <td>1398</td>\n",
       "      <td>1229</td>\n",
       "      <td>1057</td>\n",
       "      <td>997</td>\n",
       "      <td>1151</td>\n",
       "      <td>1238</td>\n",
       "      <td>1372</td>\n",
       "      <td>1361</td>\n",
       "      <td>...</td>\n",
       "      <td>2323</td>\n",
       "      <td>2208</td>\n",
       "      <td>1716</td>\n",
       "      <td>1850</td>\n",
       "      <td>2481</td>\n",
       "      <td>1965</td>\n",
       "      <td>2485</td>\n",
       "      <td>2157</td>\n",
       "      <td>1772</td>\n",
       "      <td>1</td>\n",
       "    </tr>\n",
       "    <tr>\n",
       "      <th>1</th>\n",
       "      <td>1070</td>\n",
       "      <td>1283</td>\n",
       "      <td>1281</td>\n",
       "      <td>1090</td>\n",
       "      <td>954</td>\n",
       "      <td>933</td>\n",
       "      <td>1083</td>\n",
       "      <td>1148</td>\n",
       "      <td>1227</td>\n",
       "      <td>1179</td>\n",
       "      <td>...</td>\n",
       "      <td>1379</td>\n",
       "      <td>1329</td>\n",
       "      <td>1026</td>\n",
       "      <td>964</td>\n",
       "      <td>1389</td>\n",
       "      <td>1079</td>\n",
       "      <td>1357</td>\n",
       "      <td>1213</td>\n",
       "      <td>1106</td>\n",
       "      <td>1</td>\n",
       "    </tr>\n",
       "    <tr>\n",
       "      <th>2</th>\n",
       "      <td>1070</td>\n",
       "      <td>1273</td>\n",
       "      <td>1267</td>\n",
       "      <td>1110</td>\n",
       "      <td>953</td>\n",
       "      <td>935</td>\n",
       "      <td>1065</td>\n",
       "      <td>1155</td>\n",
       "      <td>1214</td>\n",
       "      <td>1160</td>\n",
       "      <td>...</td>\n",
       "      <td>1283</td>\n",
       "      <td>1266</td>\n",
       "      <td>970</td>\n",
       "      <td>917</td>\n",
       "      <td>1305</td>\n",
       "      <td>1006</td>\n",
       "      <td>1259</td>\n",
       "      <td>1127</td>\n",
       "      <td>1008</td>\n",
       "      <td>1</td>\n",
       "    </tr>\n",
       "    <tr>\n",
       "      <th>3</th>\n",
       "      <td>1039</td>\n",
       "      <td>1268</td>\n",
       "      <td>1281</td>\n",
       "      <td>1121</td>\n",
       "      <td>955</td>\n",
       "      <td>946</td>\n",
       "      <td>1073</td>\n",
       "      <td>1146</td>\n",
       "      <td>1208</td>\n",
       "      <td>1135</td>\n",
       "      <td>...</td>\n",
       "      <td>1280</td>\n",
       "      <td>1243</td>\n",
       "      <td>924</td>\n",
       "      <td>902</td>\n",
       "      <td>1304</td>\n",
       "      <td>950</td>\n",
       "      <td>1221</td>\n",
       "      <td>1087</td>\n",
       "      <td>1008</td>\n",
       "      <td>1</td>\n",
       "    </tr>\n",
       "    <tr>\n",
       "      <th>4</th>\n",
       "      <td>1052</td>\n",
       "      <td>1261</td>\n",
       "      <td>1267</td>\n",
       "      <td>1109</td>\n",
       "      <td>934</td>\n",
       "      <td>960</td>\n",
       "      <td>1066</td>\n",
       "      <td>1143</td>\n",
       "      <td>1210</td>\n",
       "      <td>1133</td>\n",
       "      <td>...</td>\n",
       "      <td>1327</td>\n",
       "      <td>1258</td>\n",
       "      <td>902</td>\n",
       "      <td>911</td>\n",
       "      <td>1294</td>\n",
       "      <td>956</td>\n",
       "      <td>1260</td>\n",
       "      <td>1107</td>\n",
       "      <td>1029</td>\n",
       "      <td>2</td>\n",
       "    </tr>\n",
       "  </tbody>\n",
       "</table>\n",
       "<p>5 rows × 14379 columns</p>\n",
       "</div>"
      ],
      "text/plain": [
       "      0     1     2     3     4    5     6     7     8     9  ...    14369  \\\n",
       "0  1151  1391  1398  1229  1057  997  1151  1238  1372  1361  ...     2323   \n",
       "1  1070  1283  1281  1090   954  933  1083  1148  1227  1179  ...     1379   \n",
       "2  1070  1273  1267  1110   953  935  1065  1155  1214  1160  ...     1283   \n",
       "3  1039  1268  1281  1121   955  946  1073  1146  1208  1135  ...     1280   \n",
       "4  1052  1261  1267  1109   934  960  1066  1143  1210  1133  ...     1327   \n",
       "\n",
       "   14370  14371  14372  14373  14374  14375  14376  14377  label  \n",
       "0   2208   1716   1850   2481   1965   2485   2157   1772      1  \n",
       "1   1329   1026    964   1389   1079   1357   1213   1106      1  \n",
       "2   1266    970    917   1305   1006   1259   1127   1008      1  \n",
       "3   1243    924    902   1304    950   1221   1087   1008      1  \n",
       "4   1258    902    911   1294    956   1260   1107   1029      2  \n",
       "\n",
       "[5 rows x 14379 columns]"
      ]
     },
     "execution_count": 72,
     "metadata": {},
     "output_type": "execute_result"
    }
   ],
   "source": [
    "fmri_ROI_df['label']=label\n",
    "fmri_ROI_df.head()"
   ]
  },
  {
   "cell_type": "markdown",
   "metadata": {},
   "source": [
    "## SVM only"
   ]
  },
  {
   "cell_type": "code",
   "execution_count": 73,
   "metadata": {},
   "outputs": [
    {
     "name": "stdout",
     "output_type": "stream",
     "text": [
      "The hightest score: 0.6739130434782609\n",
      "The corresponding C: 0.01\n"
     ]
    },
    {
     "data": {
      "image/png": "[encoded data removed]",
      "text/plain": [
       "<matplotlib.figure.Figure at 0x1a100749e8>"
      ]
     },
     "metadata": {},
     "output_type": "display_data"
    }
   ],
   "source": [
    "train,test=train_test_split(fmri_ROI_df,test_size=0.5)\n",
    "X_train=train[train.columns[0:(fmri_ROI_df.shape[1]-1)]]\n",
    "y_train=train['label']\n",
    "X_test=test[test.columns[0:(fmri_ROI_df.shape[1]-1)]]\n",
    "y_test=test['label']\n",
    "\n",
    "scores=[]\n",
    "index=[]\n",
    "\n",
    "for c in [0.01,0.1,1,10,100]:\n",
    "    clf=SVC(kernel='linear',C=c,gamma=100)\n",
    "    clf.fit(X_train,y_train)\n",
    "    index.append(c)\n",
    "    scores.append(clf.score(X_test,y_test))\n",
    "    \n",
    "fig = plt.figure()\n",
    "plt.plot(index,scores)\n",
    "fig.suptitle('SCORE VS C')\n",
    "plt.xlabel('C')\n",
    "plt.ylabel('SCORE')\n",
    "\n",
    "print('The hightest score:',max(scores))\n",
    "print('The corresponding C:',index[np.argmax(scores)])"
   ]
  },
  {
   "cell_type": "code",
   "execution_count": 74,
   "metadata": {},
   "outputs": [
    {
     "name": "stdout",
     "output_type": "stream",
     "text": [
      "The hightest score: 0.6739130434782609\n",
      "The corresponding C: 0.01\n"
     ]
    },
    {
     "data": {
      "image/png": "[encoded data removed]",
      "text/plain": [
       "<matplotlib.figure.Figure at 0x1a1009e8d0>"
      ]
     },
     "metadata": {},
     "output_type": "display_data"
    }
   ],
   "source": [
    "scores=[]\n",
    "index=[]\n",
    "\n",
    "for c in [0.01,0.1,1,10,100]:\n",
    "    clf=SVC(kernel='linear',C=c,gamma=0.01)\n",
    "    clf.fit(X_train,y_train)\n",
    "    index.append(c)\n",
    "    scores.append(clf.score(X_test,y_test))\n",
    "    \n",
    "fig = plt.figure()\n",
    "plt.plot(index,scores)\n",
    "fig.suptitle('SCORE VS C')\n",
    "plt.xlabel('C')\n",
    "plt.ylabel('SCORE')\n",
    "\n",
    "print('The hightest score:',max(scores))\n",
    "print('The corresponding C:',index[np.argmax(scores)])"
   ]
  },
  {
   "cell_type": "code",
   "execution_count": 75,
   "metadata": {},
   "outputs": [],
   "source": [
    "scores=[]\n",
    "index=[]\n",
    "# save all scores of random state within range [1,150) \n",
    "for i in range(1,150):\n",
    "    train,test=train_test_split(fmri_ROI_df,test_size=0.5,random_state=i)\n",
    "    X_train=train[train.columns[0:(fmri_ROI_df.shape[1]-1)]]\n",
    "    y_train=train['label']\n",
    "    X_test=test[test.columns[0:(fmri_ROI_df.shape[1]-1)]]\n",
    "    y_test=test['label']\n",
    "    clf=SVC(kernel='linear',C=0.01,gamma=0.01)\n",
    "    clf.fit(X_train,y_train)\n",
    "    index.append(i)\n",
    "    scores.append(clf.score(X_test,y_test))"
   ]
  },
  {
   "cell_type": "code",
   "execution_count": 76,
   "metadata": {},
   "outputs": [
    {
     "data": {
      "text/plain": [
       "Text(0,0.5,'SCORE')"
      ]
     },
     "execution_count": 76,
     "metadata": {},
     "output_type": "execute_result"
    },
    {
     "data": {
      "image/png": "[encoded data removed]",
      "text/plain": [
       "<matplotlib.figure.Figure at 0x1a0f48ceb8>"
      ]
     },
     "metadata": {},
     "output_type": "display_data"
    }
   ],
   "source": [
    "fig = plt.figure()\n",
    "plt.plot(index,scores)\n",
    "fig.suptitle('SCORE VS RANDOM_STATE')\n",
    "plt.xlabel('RANDOM_STATE')\n",
    "plt.ylabel('SCORE')"
   ]
  },
  {
   "cell_type": "code",
   "execution_count": 77,
   "metadata": {},
   "outputs": [
    {
     "name": "stdout",
     "output_type": "stream",
     "text": [
      "The hightest score: 0.8478260869565217\n",
      "The corresponding random state: 83\n"
     ]
    }
   ],
   "source": [
    "print('The hightest score:',max(scores))\n",
    "print('The corresponding random state:',index[np.argmax(scores)])"
   ]
  },
  {
   "cell_type": "code",
   "execution_count": 78,
   "metadata": {},
   "outputs": [],
   "source": [
    "train,test=train_test_split(fmri_ROI_df,test_size=0.5,random_state=83)\n",
    "X_train=train[train.columns[0:(fmri_ROI_df.shape[1]-1)]]\n",
    "y_train=train['label']\n",
    "X_test=test[test.columns[0:(fmri_ROI_df.shape[1]-1)]]\n",
    "y_test=test['label']\n"
   ]
  },
  {
   "cell_type": "code",
   "execution_count": 79,
   "metadata": {},
   "outputs": [
    {
     "name": "stdout",
     "output_type": "stream",
     "text": [
      "Accuracy of the best: 0.8478260869565217\n"
     ]
    }
   ],
   "source": [
    "clf=SVC(kernel='linear',C=0.01,gamma=0.01)\n",
    "clf.fit(X_train,y_train)\n",
    "\n",
    "svm_pred=clf.predict(X_test)\n",
    "print('Accuracy of the best:',clf.score(X_test,y_test))"
   ]
  },
  {
   "cell_type": "code",
   "execution_count": 80,
   "metadata": {},
   "outputs": [
    {
     "name": "stdout",
     "output_type": "stream",
     "text": [
      "[[45  4  1  2]\n",
      " [ 3 12  0  0]\n",
      " [ 1  0 11  0]\n",
      " [ 2  1  0 10]]\n"
     ]
    }
   ],
   "source": [
    "print(confusion_matrix(y_test,svm_pred))"
   ]
  },
  {
   "cell_type": "code",
   "execution_count": 81,
   "metadata": {},
   "outputs": [
    {
     "name": "stdout",
     "output_type": "stream",
     "text": [
      "Predict Label: [1 4 2 1 2 1 1 1 3 1 2 3 3 4 1 1 1 1 1 3 1 1 4 1 1 2 1 1 2 1 1 1 2 1 2 3 3\n",
      " 1 4 1 2 1 4 1 4 1 2 4 1 2 1 4 3 1 1 1 1 3 1 1 4 1 2 1 1 1 2 1 2 1 1 1 1 1\n",
      " 4 1 1 4 1 3 1 2 3 2 2 2 4 3 1 3 1 1]\n",
      "Real Label: [1 1 2 1 2 1 1 1 3 1 1 3 3 4 1 1 1 1 1 3 1 1 4 1 1 2 2 1 2 1 1 1 2 1 2 3 3\n",
      " 1 4 1 2 1 4 1 4 1 4 1 3 1 1 4 3 1 1 1 4 3 1 1 4 1 1 1 1 1 2 1 1 1 1 1 1 4\n",
      " 4 1 1 4 1 3 1 2 3 2 2 2 4 3 2 1 1 2]\n"
     ]
    }
   ],
   "source": [
    "print('Predict Label:',svm_pred)\n",
    "print('Real Label:',np.transpose(y_test.tolist()))"
   ]
  },
  {
   "cell_type": "markdown",
   "metadata": {},
   "source": [
    "## PCA+SVM"
   ]
  },
  {
   "cell_type": "code",
   "execution_count": 82,
   "metadata": {},
   "outputs": [],
   "source": [
    "# Standardizing the features\n",
    "scale=StandardScaler()\n",
    "scale.fit(X_train)\n",
    "X_train=scale.transform(X_train)\n",
    "X_test=scale.transform(X_test)"
   ]
  },
  {
   "cell_type": "code",
   "execution_count": 83,
   "metadata": {},
   "outputs": [],
   "source": [
    "scores=[]\n",
    "index=[]\n",
    "# save all scores of the number of dimensionality reduction within range [10,150) \n",
    "for i in range(10,150):\n",
    "    pca = PCA(n_components=i)\n",
    "    pca.fit(X_train)\n",
    "    X_train_pca= pca.transform(X_train)\n",
    "    X_test_pca=pca.transform(X_test)\n",
    "\n",
    "    clf2=SVC(kernel='linear',C=0.01,gamma=0.01)\n",
    "    clf2.fit(X_train_pca,y_train)\n",
    "    \n",
    "    \n",
    "    index.append(i)\n",
    "    scores.append(clf2.score(X_test_pca,y_test))\n",
    "    "
   ]
  },
  {
   "cell_type": "code",
   "execution_count": 84,
   "metadata": {},
   "outputs": [
    {
     "data": {
      "text/plain": [
       "Text(0,0.5,'SCORE')"
      ]
     },
     "execution_count": 84,
     "metadata": {},
     "output_type": "execute_result"
    },
    {
     "data": {
      "image/png": "[encoded data removed]",
      "text/plain": [
       "<matplotlib.figure.Figure at 0x1a1a2a7f28>"
      ]
     },
     "metadata": {},
     "output_type": "display_data"
    }
   ],
   "source": [
    "fig=plt.figure()\n",
    "plt.plot(index,scores)\n",
    "fig.suptitle('SCORE VS NUMBER OF PRINCIPLE COMPONENT')\n",
    "plt.xlabel('NUMBER OF PRINCIPLE COMPONENT')\n",
    "plt.ylabel('SCORE')"
   ]
  },
  {
   "cell_type": "code",
   "execution_count": 85,
   "metadata": {},
   "outputs": [
    {
     "name": "stdout",
     "output_type": "stream",
     "text": [
      "The hightest score: 0.8260869565217391\n",
      "The corresponding number of principle component: 85\n"
     ]
    }
   ],
   "source": [
    "print('The hightest score:',max(scores))\n",
    "print('The corresponding number of principle component:',index[np.argmax(scores)])"
   ]
  },
  {
   "cell_type": "code",
   "execution_count": 86,
   "metadata": {},
   "outputs": [
    {
     "name": "stdout",
     "output_type": "stream",
     "text": [
      "Accuracy of the best: 0.8260869565217391\n"
     ]
    }
   ],
   "source": [
    "pca = PCA(n_components=85)\n",
    "pca.fit(X_train)\n",
    "X_train_pca= pca.transform(X_train)\n",
    "X_test_pca=pca.transform(X_test)\n",
    "\n",
    "clf=SVC(kernel='linear',C=0.01,gamma=0.01)\n",
    "clf.fit(X_train_pca,y_train)\n",
    "\n",
    "svm_pred2=clf.predict(X_test_pca)\n",
    "print('Accuracy of the best:',clf.score(X_test_pca,y_test))\n",
    "\n",
    "pca_svm_pred=clf.predict(X_test_pca)"
   ]
  },
  {
   "cell_type": "code",
   "execution_count": 87,
   "metadata": {},
   "outputs": [
    {
     "name": "stdout",
     "output_type": "stream",
     "text": [
      "[[47  2  1  2]\n",
      " [ 7  8  0  0]\n",
      " [ 1  0 11  0]\n",
      " [ 2  1  0 10]]\n"
     ]
    }
   ],
   "source": [
    "print(confusion_matrix(y_test,pca_svm_pred))"
   ]
  },
  {
   "cell_type": "code",
   "execution_count": 88,
   "metadata": {},
   "outputs": [
    {
     "name": "stdout",
     "output_type": "stream",
     "text": [
      "Predict Label: [1 4 2 1 1 1 1 1 3 1 2 3 3 4 1 1 1 1 1 3 1 1 4 1 1 1 1 1 1 1 1 1 1 1 2 3 3\n",
      " 1 4 1 2 1 4 1 4 1 2 1 1 4 1 4 3 1 1 1 1 3 1 1 4 1 2 1 1 1 2 1 1 1 1 1 1 1\n",
      " 4 1 1 4 1 3 1 2 3 2 2 2 4 3 1 3 1 1]\n",
      "Real Label: [1 1 2 1 2 1 1 1 3 1 1 3 3 4 1 1 1 1 1 3 1 1 4 1 1 2 2 1 2 1 1 1 2 1 2 3 3\n",
      " 1 4 1 2 1 4 1 4 1 4 1 3 1 1 4 3 1 1 1 4 3 1 1 4 1 1 1 1 1 2 1 1 1 1 1 1 4\n",
      " 4 1 1 4 1 3 1 2 3 2 2 2 4 3 2 1 1 2]\n"
     ]
    }
   ],
   "source": [
    "print('Predict Label:',pca_svm_pred)\n",
    "print('Real Label:',np.transpose(y_test.tolist()))"
   ]
  },
  {
   "cell_type": "code",
   "execution_count": null,
   "metadata": {},
   "outputs": [],
   "source": []
  }
 ],
 "metadata": {
  "kernelspec": {
   "display_name": "Python 3",
   "language": "python",
   "name": "python3"
  },
  "language_info": {
   "codemirror_mode": {
    "name": "ipython",
    "version": 3
   },
   "file_extension": ".py",
   "mimetype": "text/x-python",
   "name": "python",
   "nbconvert_exporter": "python",
   "pygments_lexer": "ipython3",
   "version": "3.6.4"
  }
 },
 "nbformat": 4,
 "nbformat_minor": 2
}
